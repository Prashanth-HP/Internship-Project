{
 "cells": [
  {
   "cell_type": "markdown",
   "metadata": {},
   "source": [
    "## Import the requried module"
   ]
  },
  {
   "cell_type": "code",
   "execution_count": 1,
   "metadata": {},
   "outputs": [],
   "source": [
    "import numpy as np\n",
    "import pandas as pd \n",
    "import seaborn as sns\n",
    "import matplotlib.pyplot as plt\n",
    "import plotly.express as px"
   ]
  },
  {
   "cell_type": "code",
   "execution_count": 2,
   "metadata": {},
   "outputs": [
    {
     "data": {
      "text/plain": [
       "(3900, 18)"
      ]
     },
     "execution_count": 2,
     "metadata": {},
     "output_type": "execute_result"
    }
   ],
   "source": [
    "df=pd.read_csv(\"shopping_trends_updated.csv\")\n",
    "df.shape"
   ]
  },
  {
   "cell_type": "code",
   "execution_count": 3,
   "metadata": {},
   "outputs": [
    {
     "data": {
      "text/html": [
       "<div>\n",
       "<style scoped>\n",
       "    .dataframe tbody tr th:only-of-type {\n",
       "        vertical-align: middle;\n",
       "    }\n",
       "\n",
       "    .dataframe tbody tr th {\n",
       "        vertical-align: top;\n",
       "    }\n",
       "\n",
       "    .dataframe thead th {\n",
       "        text-align: right;\n",
       "    }\n",
       "</style>\n",
       "<table border=\"1\" class=\"dataframe\">\n",
       "  <thead>\n",
       "    <tr style=\"text-align: right;\">\n",
       "      <th></th>\n",
       "      <th>Customer ID</th>\n",
       "      <th>Age</th>\n",
       "      <th>Gender</th>\n",
       "      <th>Item Purchased</th>\n",
       "      <th>Category</th>\n",
       "      <th>Purchase Amount (USD)</th>\n",
       "      <th>Location</th>\n",
       "      <th>Size</th>\n",
       "      <th>Color</th>\n",
       "      <th>Season</th>\n",
       "      <th>Review Rating</th>\n",
       "      <th>Subscription Status</th>\n",
       "      <th>Shipping Type</th>\n",
       "      <th>Discount Applied</th>\n",
       "      <th>Promo Code Used</th>\n",
       "      <th>Previous Purchases</th>\n",
       "      <th>Payment Method</th>\n",
       "      <th>Frequency of Purchases</th>\n",
       "    </tr>\n",
       "  </thead>\n",
       "  <tbody>\n",
       "    <tr>\n",
       "      <th>0</th>\n",
       "      <td>1</td>\n",
       "      <td>55</td>\n",
       "      <td>Male</td>\n",
       "      <td>Blouse</td>\n",
       "      <td>Clothing</td>\n",
       "      <td>53</td>\n",
       "      <td>Kentucky</td>\n",
       "      <td>L</td>\n",
       "      <td>Gray</td>\n",
       "      <td>Winter</td>\n",
       "      <td>3.1</td>\n",
       "      <td>Yes</td>\n",
       "      <td>Express</td>\n",
       "      <td>Yes</td>\n",
       "      <td>Yes</td>\n",
       "      <td>14</td>\n",
       "      <td>Venmo</td>\n",
       "      <td>Fortnightly</td>\n",
       "    </tr>\n",
       "    <tr>\n",
       "      <th>1</th>\n",
       "      <td>2</td>\n",
       "      <td>19</td>\n",
       "      <td>Male</td>\n",
       "      <td>Sweater</td>\n",
       "      <td>Clothing</td>\n",
       "      <td>64</td>\n",
       "      <td>Maine</td>\n",
       "      <td>L</td>\n",
       "      <td>Maroon</td>\n",
       "      <td>Winter</td>\n",
       "      <td>3.1</td>\n",
       "      <td>Yes</td>\n",
       "      <td>Express</td>\n",
       "      <td>Yes</td>\n",
       "      <td>Yes</td>\n",
       "      <td>2</td>\n",
       "      <td>Cash</td>\n",
       "      <td>Fortnightly</td>\n",
       "    </tr>\n",
       "    <tr>\n",
       "      <th>2</th>\n",
       "      <td>3</td>\n",
       "      <td>50</td>\n",
       "      <td>Male</td>\n",
       "      <td>Jeans</td>\n",
       "      <td>Clothing</td>\n",
       "      <td>73</td>\n",
       "      <td>Massachusetts</td>\n",
       "      <td>S</td>\n",
       "      <td>Maroon</td>\n",
       "      <td>Spring</td>\n",
       "      <td>3.1</td>\n",
       "      <td>Yes</td>\n",
       "      <td>Free Shipping</td>\n",
       "      <td>Yes</td>\n",
       "      <td>Yes</td>\n",
       "      <td>23</td>\n",
       "      <td>Credit Card</td>\n",
       "      <td>Weekly</td>\n",
       "    </tr>\n",
       "    <tr>\n",
       "      <th>3</th>\n",
       "      <td>4</td>\n",
       "      <td>21</td>\n",
       "      <td>Male</td>\n",
       "      <td>Sandals</td>\n",
       "      <td>Footwear</td>\n",
       "      <td>90</td>\n",
       "      <td>Rhode Island</td>\n",
       "      <td>M</td>\n",
       "      <td>Maroon</td>\n",
       "      <td>Spring</td>\n",
       "      <td>3.5</td>\n",
       "      <td>Yes</td>\n",
       "      <td>Next Day Air</td>\n",
       "      <td>Yes</td>\n",
       "      <td>Yes</td>\n",
       "      <td>49</td>\n",
       "      <td>PayPal</td>\n",
       "      <td>Weekly</td>\n",
       "    </tr>\n",
       "    <tr>\n",
       "      <th>4</th>\n",
       "      <td>5</td>\n",
       "      <td>45</td>\n",
       "      <td>Male</td>\n",
       "      <td>Blouse</td>\n",
       "      <td>Clothing</td>\n",
       "      <td>49</td>\n",
       "      <td>Oregon</td>\n",
       "      <td>M</td>\n",
       "      <td>Turquoise</td>\n",
       "      <td>Spring</td>\n",
       "      <td>2.7</td>\n",
       "      <td>Yes</td>\n",
       "      <td>Free Shipping</td>\n",
       "      <td>Yes</td>\n",
       "      <td>Yes</td>\n",
       "      <td>31</td>\n",
       "      <td>PayPal</td>\n",
       "      <td>Annually</td>\n",
       "    </tr>\n",
       "  </tbody>\n",
       "</table>\n",
       "</div>"
      ],
      "text/plain": [
       "   Customer ID  Age Gender Item Purchased  Category  Purchase Amount (USD)  \\\n",
       "0            1   55   Male         Blouse  Clothing                     53   \n",
       "1            2   19   Male        Sweater  Clothing                     64   \n",
       "2            3   50   Male          Jeans  Clothing                     73   \n",
       "3            4   21   Male        Sandals  Footwear                     90   \n",
       "4            5   45   Male         Blouse  Clothing                     49   \n",
       "\n",
       "        Location Size      Color  Season  Review Rating Subscription Status  \\\n",
       "0       Kentucky    L       Gray  Winter            3.1                 Yes   \n",
       "1          Maine    L     Maroon  Winter            3.1                 Yes   \n",
       "2  Massachusetts    S     Maroon  Spring            3.1                 Yes   \n",
       "3   Rhode Island    M     Maroon  Spring            3.5                 Yes   \n",
       "4         Oregon    M  Turquoise  Spring            2.7                 Yes   \n",
       "\n",
       "   Shipping Type Discount Applied Promo Code Used  Previous Purchases  \\\n",
       "0        Express              Yes             Yes                  14   \n",
       "1        Express              Yes             Yes                   2   \n",
       "2  Free Shipping              Yes             Yes                  23   \n",
       "3   Next Day Air              Yes             Yes                  49   \n",
       "4  Free Shipping              Yes             Yes                  31   \n",
       "\n",
       "  Payment Method Frequency of Purchases  \n",
       "0          Venmo            Fortnightly  \n",
       "1           Cash            Fortnightly  \n",
       "2    Credit Card                 Weekly  \n",
       "3         PayPal                 Weekly  \n",
       "4         PayPal               Annually  "
      ]
     },
     "execution_count": 3,
     "metadata": {},
     "output_type": "execute_result"
    }
   ],
   "source": [
    "df.head()"
   ]
  },
  {
   "cell_type": "code",
   "execution_count": 4,
   "metadata": {},
   "outputs": [
    {
     "data": {
      "text/plain": [
       "Customer ID                 int64\n",
       "Age                         int64\n",
       "Gender                     object\n",
       "Item Purchased             object\n",
       "Category                   object\n",
       "Purchase Amount (USD)       int64\n",
       "Location                   object\n",
       "Size                       object\n",
       "Color                      object\n",
       "Season                     object\n",
       "Review Rating             float64\n",
       "Subscription Status        object\n",
       "Shipping Type              object\n",
       "Discount Applied           object\n",
       "Promo Code Used            object\n",
       "Previous Purchases          int64\n",
       "Payment Method             object\n",
       "Frequency of Purchases     object\n",
       "dtype: object"
      ]
     },
     "execution_count": 4,
     "metadata": {},
     "output_type": "execute_result"
    }
   ],
   "source": [
    "df.dtypes"
   ]
  },
  {
   "cell_type": "code",
   "execution_count": 5,
   "metadata": {},
   "outputs": [
    {
     "data": {
      "text/plain": [
       "Index(['Customer ID', 'Age', 'Gender', 'Item Purchased', 'Category',\n",
       "       'Purchase Amount (USD)', 'Location', 'Size', 'Color', 'Season',\n",
       "       'Review Rating', 'Subscription Status', 'Shipping Type',\n",
       "       'Discount Applied', 'Promo Code Used', 'Previous Purchases',\n",
       "       'Payment Method', 'Frequency of Purchases'],\n",
       "      dtype='object')"
      ]
     },
     "execution_count": 5,
     "metadata": {},
     "output_type": "execute_result"
    }
   ],
   "source": [
    "df.columns"
   ]
  },
  {
   "cell_type": "code",
   "execution_count": 6,
   "metadata": {},
   "outputs": [
    {
     "name": "stdout",
     "output_type": "stream",
     "text": [
      "<class 'pandas.core.frame.DataFrame'>\n",
      "RangeIndex: 3900 entries, 0 to 3899\n",
      "Data columns (total 18 columns):\n",
      " #   Column                  Non-Null Count  Dtype  \n",
      "---  ------                  --------------  -----  \n",
      " 0   Customer ID             3900 non-null   int64  \n",
      " 1   Age                     3900 non-null   int64  \n",
      " 2   Gender                  3900 non-null   object \n",
      " 3   Item Purchased          3900 non-null   object \n",
      " 4   Category                3900 non-null   object \n",
      " 5   Purchase Amount (USD)   3900 non-null   int64  \n",
      " 6   Location                3900 non-null   object \n",
      " 7   Size                    3900 non-null   object \n",
      " 8   Color                   3900 non-null   object \n",
      " 9   Season                  3900 non-null   object \n",
      " 10  Review Rating           3900 non-null   float64\n",
      " 11  Subscription Status     3900 non-null   object \n",
      " 12  Shipping Type           3900 non-null   object \n",
      " 13  Discount Applied        3900 non-null   object \n",
      " 14  Promo Code Used         3900 non-null   object \n",
      " 15  Previous Purchases      3900 non-null   int64  \n",
      " 16  Payment Method          3900 non-null   object \n",
      " 17  Frequency of Purchases  3900 non-null   object \n",
      "dtypes: float64(1), int64(4), object(13)\n",
      "memory usage: 548.6+ KB\n"
     ]
    }
   ],
   "source": [
    "df.info()"
   ]
  },
  {
   "cell_type": "code",
   "execution_count": 7,
   "metadata": {},
   "outputs": [
    {
     "name": "stdout",
     "output_type": "stream",
     "text": [
      "<class 'pandas.core.frame.DataFrame'>\n",
      "RangeIndex: 3900 entries, 0 to 3899\n",
      "Data columns (total 18 columns):\n",
      " #   Column                  Non-Null Count  Dtype  \n",
      "---  ------                  --------------  -----  \n",
      " 0   Customer ID             3900 non-null   int64  \n",
      " 1   Age                     3900 non-null   int64  \n",
      " 2   Gender                  3900 non-null   object \n",
      " 3   Item Purchased          3900 non-null   object \n",
      " 4   Category                3900 non-null   object \n",
      " 5   Purchase Amount (USD)   3900 non-null   int64  \n",
      " 6   Location                3900 non-null   object \n",
      " 7   Size                    3900 non-null   object \n",
      " 8   Color                   3900 non-null   object \n",
      " 9   Season                  3900 non-null   object \n",
      " 10  Review Rating           3900 non-null   float64\n",
      " 11  Subscription Status     3900 non-null   object \n",
      " 12  Shipping Type           3900 non-null   object \n",
      " 13  Discount Applied        3900 non-null   object \n",
      " 14  Promo Code Used         3900 non-null   object \n",
      " 15  Previous Purchases      3900 non-null   int64  \n",
      " 16  Payment Method          3900 non-null   object \n",
      " 17  Frequency of Purchases  3900 non-null   object \n",
      "dtypes: float64(1), int64(4), object(13)\n",
      "memory usage: 548.6+ KB\n"
     ]
    }
   ],
   "source": [
    "df.info()"
   ]
  },
  {
   "cell_type": "code",
   "execution_count": 8,
   "metadata": {},
   "outputs": [
    {
     "data": {
      "text/plain": [
       "Customer ID               0\n",
       "Age                       0\n",
       "Gender                    0\n",
       "Item Purchased            0\n",
       "Category                  0\n",
       "Purchase Amount (USD)     0\n",
       "Location                  0\n",
       "Size                      0\n",
       "Color                     0\n",
       "Season                    0\n",
       "Review Rating             0\n",
       "Subscription Status       0\n",
       "Shipping Type             0\n",
       "Discount Applied          0\n",
       "Promo Code Used           0\n",
       "Previous Purchases        0\n",
       "Payment Method            0\n",
       "Frequency of Purchases    0\n",
       "dtype: int64"
      ]
     },
     "execution_count": 8,
     "metadata": {},
     "output_type": "execute_result"
    }
   ],
   "source": [
    "df.isnull().sum()"
   ]
  },
  {
   "cell_type": "code",
   "execution_count": 9,
   "metadata": {},
   "outputs": [
    {
     "name": "stdout",
     "output_type": "stream",
     "text": [
      "Gender in Column: ['Male' 'Female']\n",
      "Category in Column: ['Clothing' 'Footwear' 'Outerwear' 'Accessories']\n",
      "Size in Column: ['L' 'S' 'M' 'XL']\n",
      "Subscription Status in Column: ['Yes' 'No']\n",
      "Shipping Type in Column: ['Express' 'Free Shipping' 'Next Day Air' 'Standard' '2-Day Shipping'\n",
      " 'Store Pickup']\n",
      "Discount Applied in Column: ['Yes' 'No']\n",
      "Promo Code Used in Column: ['Yes' 'No']\n",
      "Payment Method in Column: ['Venmo' 'Cash' 'Credit Card' 'PayPal' 'Bank Transfer' 'Debit Card']\n"
     ]
    }
   ],
   "source": [
    "print(f\"Gender in Column: {df['Gender'].unique()}\")\n",
    "print(f\"Category in Column: {df['Category'].unique()}\")\n",
    "print(f\"Size in Column: {df['Size'].unique()}\")\n",
    "print(f\"Subscription Status in Column: {df['Subscription Status'].unique()}\")\n",
    "print(f\"Shipping Type in Column: {df['Shipping Type'].unique()}\")\n",
    "print(f\"Discount Applied in Column: {df['Discount Applied'].unique()}\")\n",
    "print(f\"Promo Code Used in Column: {df['Promo Code Used'].unique()}\")\n",
    "print(f\"Payment Method in Column: {df['Payment Method'].unique()}\")"
   ]
  },
  {
   "cell_type": "markdown",
   "metadata": {
    "notebookRunGroups": {
     "groupValue": "2"
    }
   },
   "source": [
    "## 1. Distribution of Customer's Age?"
   ]
  },
  {
   "cell_type": "code",
   "execution_count": 10,
   "metadata": {},
   "outputs": [
    {
     "data": {
      "text/plain": [
       "Age\n",
       "69    88\n",
       "57    87\n",
       "41    86\n",
       "25    85\n",
       "49    84\n",
       "54    83\n",
       "27    83\n",
       "50    83\n",
       "62    83\n",
       "32    82\n",
       "58    81\n",
       "19    81\n",
       "42    80\n",
       "31    79\n",
       "28    79\n",
       "43    79\n",
       "37    77\n",
       "29    76\n",
       "46    76\n",
       "63    75\n",
       "59    75\n",
       "68    75\n",
       "56    74\n",
       "36    74\n",
       "52    73\n",
       "64    73\n",
       "55    73\n",
       "51    72\n",
       "65    72\n",
       "45    72\n",
       "40    72\n",
       "35    72\n",
       "47    71\n",
       "66    71\n",
       "30    71\n",
       "23    71\n",
       "53    70\n",
       "38    70\n",
       "18    69\n",
       "26    69\n",
       "21    69\n",
       "34    68\n",
       "39    68\n",
       "48    68\n",
       "24    68\n",
       "70    67\n",
       "22    66\n",
       "61    65\n",
       "60    65\n",
       "33    63\n",
       "20    62\n",
       "67    54\n",
       "44    51\n",
       "Name: count, dtype: int64"
      ]
     },
     "execution_count": 10,
     "metadata": {},
     "output_type": "execute_result"
    }
   ],
   "source": [
    "Age= df['Age'].value_counts()\n",
    "Age"
   ]
  },
  {
   "cell_type": "code",
   "execution_count": 11,
   "metadata": {},
   "outputs": [
    {
     "data": {
      "text/plain": [
       "np.float64(44.06846153846154)"
      ]
     },
     "execution_count": 11,
     "metadata": {},
     "output_type": "execute_result"
    }
   ],
   "source": [
    "df['Age'].mean()"
   ]
  },
  {
   "cell_type": "code",
   "execution_count": 12,
   "metadata": {},
   "outputs": [],
   "source": [
    "df['Age_category'] = pd.cut(df['Age'], bins= [0,15, 18 , 30 , 50 , 70] , labels= ['child' , 'teen' , 'Young Adults' ,'Middle-Aged Adults'\n",
    "                                                                                             , 'old'] )"
   ]
  },
  {
   "cell_type": "code",
   "execution_count": 13,
   "metadata": {},
   "outputs": [
    {
     "data": {
      "image/png": "[encoded data removed]",
      "text/plain": [
       "<Figure size 640x480 with 1 Axes>"
      ]
     },
     "metadata": {},
     "output_type": "display_data"
    }
   ],
   "source": [
    "fig = plt.bar(df['Age_category'], df['Age'])\n",
    "plt.xlabel(\"Age_Category\")\n",
    "plt.ylabel(\"Age Level\")\n",
    "plt.title(\"Age_Category vs Age Level\")\n",
    "plt.show()"
   ]
  },
  {
   "cell_type": "markdown",
   "metadata": {},
   "source": [
    "## 2. Average purchase amount vary across different product categories?"
   ]
  },
  {
   "cell_type": "code",
   "execution_count": 14,
   "metadata": {},
   "outputs": [
    {
     "data": {
      "text/plain": [
       "Index(['Customer ID', 'Age', 'Gender', 'Item Purchased', 'Category',\n",
       "       'Purchase Amount (USD)', 'Location', 'Size', 'Color', 'Season',\n",
       "       'Review Rating', 'Subscription Status', 'Shipping Type',\n",
       "       'Discount Applied', 'Promo Code Used', 'Previous Purchases',\n",
       "       'Payment Method', 'Frequency of Purchases', 'Age_category'],\n",
       "      dtype='object')"
      ]
     },
     "execution_count": 14,
     "metadata": {},
     "output_type": "execute_result"
    }
   ],
   "source": [
    "df.columns"
   ]
  },
  {
   "cell_type": "code",
   "execution_count": 15,
   "metadata": {},
   "outputs": [
    {
     "data": {
      "text/plain": [
       "array(['Clothing', 'Footwear', 'Outerwear', 'Accessories'], dtype=object)"
      ]
     },
     "execution_count": 15,
     "metadata": {},
     "output_type": "execute_result"
    }
   ],
   "source": [
    "df['Category'].unique()"
   ]
  },
  {
   "cell_type": "code",
   "execution_count": 16,
   "metadata": {},
   "outputs": [
    {
     "data": {
      "text/plain": [
       "Category\n",
       "Accessories    59.838710\n",
       "Clothing       60.025331\n",
       "Footwear       60.255426\n",
       "Outerwear      57.172840\n",
       "Name: Purchase Amount (USD), dtype: float64"
      ]
     },
     "execution_count": 16,
     "metadata": {},
     "output_type": "execute_result"
    }
   ],
   "source": [
    "df.groupby('Category')['Purchase Amount (USD)'].mean()"
   ]
  },
  {
   "cell_type": "markdown",
   "metadata": {},
   "source": [
    "## 3. Gender has the highest number of purchases?"
   ]
  },
  {
   "cell_type": "code",
   "execution_count": 17,
   "metadata": {},
   "outputs": [
    {
     "data": {
      "text/plain": [
       "Index(['Customer ID', 'Age', 'Gender', 'Item Purchased', 'Category',\n",
       "       'Purchase Amount (USD)', 'Location', 'Size', 'Color', 'Season',\n",
       "       'Review Rating', 'Subscription Status', 'Shipping Type',\n",
       "       'Discount Applied', 'Promo Code Used', 'Previous Purchases',\n",
       "       'Payment Method', 'Frequency of Purchases', 'Age_category'],\n",
       "      dtype='object')"
      ]
     },
     "execution_count": 17,
     "metadata": {},
     "output_type": "execute_result"
    }
   ],
   "source": [
    "df.columns"
   ]
  },
  {
   "cell_type": "code",
   "execution_count": 18,
   "metadata": {},
   "outputs": [
    {
     "data": {
      "text/plain": [
       "<Axes: xlabel='Gender', ylabel='Purchase Amount (USD)'>"
      ]
     },
     "execution_count": 18,
     "metadata": {},
     "output_type": "execute_result"
    },
    {
     "data": {
      "image/png": "[encoded data removed]",
      "text/plain": [
       "<Figure size 640x480 with 1 Axes>"
      ]
     },
     "metadata": {},
     "output_type": "display_data"
    }
   ],
   "source": [
    "sns.barplot(df, x=\"Gender\", y=\"Purchase Amount (USD)\")"
   ]
  },
  {
   "cell_type": "markdown",
   "metadata": {},
   "source": [
    "## 4. Most Commonly purchased Item in Each Category?"
   ]
  },
  {
   "cell_type": "code",
   "execution_count": 19,
   "metadata": {},
   "outputs": [
    {
     "data": {
      "text/plain": [
       "Index(['Customer ID', 'Age', 'Gender', 'Item Purchased', 'Category',\n",
       "       'Purchase Amount (USD)', 'Location', 'Size', 'Color', 'Season',\n",
       "       'Review Rating', 'Subscription Status', 'Shipping Type',\n",
       "       'Discount Applied', 'Promo Code Used', 'Previous Purchases',\n",
       "       'Payment Method', 'Frequency of Purchases', 'Age_category'],\n",
       "      dtype='object')"
      ]
     },
     "execution_count": 19,
     "metadata": {},
     "output_type": "execute_result"
    }
   ],
   "source": [
    "df.columns"
   ]
  },
  {
   "cell_type": "code",
   "execution_count": 20,
   "metadata": {},
   "outputs": [
    {
     "data": {
      "text/plain": [
       "Category     Item Purchased\n",
       "Accessories  Jewelry           171\n",
       "             Belt              161\n",
       "             Sunglasses        161\n",
       "             Scarf             157\n",
       "             Hat               154\n",
       "             Handbag           153\n",
       "             Backpack          143\n",
       "             Gloves            140\n",
       "Clothing     Blouse            171\n",
       "             Pants             171\n",
       "             Shirt             169\n",
       "             Dress             166\n",
       "             Sweater           164\n",
       "             Socks             159\n",
       "             Skirt             158\n",
       "             Shorts            157\n",
       "             Hoodie            151\n",
       "             T-shirt           147\n",
       "             Jeans             124\n",
       "Footwear     Sandals           160\n",
       "             Shoes             150\n",
       "             Sneakers          145\n",
       "             Boots             144\n",
       "Outerwear    Jacket            163\n",
       "             Coat              161\n",
       "Name: count, dtype: int64"
      ]
     },
     "execution_count": 20,
     "metadata": {},
     "output_type": "execute_result"
    }
   ],
   "source": [
    "df.groupby(\"Category\")[\"Item Purchased\"].value_counts()"
   ]
  },
  {
   "cell_type": "markdown",
   "metadata": {},
   "source": [
    "## 5. specific seasons or months where customer spending is significantly higher?"
   ]
  },
  {
   "cell_type": "code",
   "execution_count": 21,
   "metadata": {},
   "outputs": [
    {
     "data": {
      "text/plain": [
       "Index(['Customer ID', 'Age', 'Gender', 'Item Purchased', 'Category',\n",
       "       'Purchase Amount (USD)', 'Location', 'Size', 'Color', 'Season',\n",
       "       'Review Rating', 'Subscription Status', 'Shipping Type',\n",
       "       'Discount Applied', 'Promo Code Used', 'Previous Purchases',\n",
       "       'Payment Method', 'Frequency of Purchases', 'Age_category'],\n",
       "      dtype='object')"
      ]
     },
     "execution_count": 21,
     "metadata": {},
     "output_type": "execute_result"
    }
   ],
   "source": [
    "df.columns"
   ]
  },
  {
   "cell_type": "code",
   "execution_count": 22,
   "metadata": {},
   "outputs": [
    {
     "data": {
      "text/plain": [
       "array(['Winter', 'Spring', 'Summer', 'Fall'], dtype=object)"
      ]
     },
     "execution_count": 22,
     "metadata": {},
     "output_type": "execute_result"
    }
   ],
   "source": [
    "df[\"Season\"].unique()"
   ]
  },
  {
   "cell_type": "code",
   "execution_count": 23,
   "metadata": {},
   "outputs": [
    {
     "data": {
      "text/plain": [
       "np.int64(955)"
      ]
     },
     "execution_count": 23,
     "metadata": {},
     "output_type": "execute_result"
    }
   ],
   "source": [
    "df[df[\"Season\"] == \"Summer\"].value_counts().sum()"
   ]
  },
  {
   "cell_type": "code",
   "execution_count": 24,
   "metadata": {},
   "outputs": [
    {
     "data": {
      "text/plain": [
       "np.int64(971)"
      ]
     },
     "execution_count": 24,
     "metadata": {},
     "output_type": "execute_result"
    }
   ],
   "source": [
    "df[df[\"Season\"] == \"Winter\"].value_counts().sum()"
   ]
  },
  {
   "cell_type": "code",
   "execution_count": 25,
   "metadata": {},
   "outputs": [
    {
     "data": {
      "text/plain": [
       "np.int64(999)"
      ]
     },
     "execution_count": 25,
     "metadata": {},
     "output_type": "execute_result"
    }
   ],
   "source": [
    "df[df[\"Season\"] == \"Spring\"].value_counts().sum()"
   ]
  },
  {
   "cell_type": "code",
   "execution_count": 26,
   "metadata": {},
   "outputs": [
    {
     "data": {
      "text/plain": [
       "np.int64(975)"
      ]
     },
     "execution_count": 26,
     "metadata": {},
     "output_type": "execute_result"
    }
   ],
   "source": [
    "df[df[\"Season\"] == \"Fall\"].value_counts().sum()"
   ]
  },
  {
   "cell_type": "markdown",
   "metadata": {},
   "source": [
    "## 6. Average rating given by customers for each product category?"
   ]
  },
  {
   "cell_type": "code",
   "execution_count": 27,
   "metadata": {},
   "outputs": [
    {
     "data": {
      "text/plain": [
       "Index(['Customer ID', 'Age', 'Gender', 'Item Purchased', 'Category',\n",
       "       'Purchase Amount (USD)', 'Location', 'Size', 'Color', 'Season',\n",
       "       'Review Rating', 'Subscription Status', 'Shipping Type',\n",
       "       'Discount Applied', 'Promo Code Used', 'Previous Purchases',\n",
       "       'Payment Method', 'Frequency of Purchases', 'Age_category'],\n",
       "      dtype='object')"
      ]
     },
     "execution_count": 27,
     "metadata": {},
     "output_type": "execute_result"
    }
   ],
   "source": [
    "df.columns"
   ]
  },
  {
   "cell_type": "code",
   "execution_count": 28,
   "metadata": {},
   "outputs": [],
   "source": [
    "cat_rate= df.groupby(\"Category\")[\"Review Rating\"].value_counts().mean()"
   ]
  },
  {
   "cell_type": "code",
   "execution_count": 29,
   "metadata": {},
   "outputs": [
    {
     "data": {
      "image/png": "[encoded data removed]",
      "text/plain": [
       "<Figure size 640x480 with 1 Axes>"
      ]
     },
     "metadata": {},
     "output_type": "display_data"
    }
   ],
   "source": [
    "plt.bar(df[\"Category\"], df[\"Review Rating\"])\n",
    "plt.show()"
   ]
  },
  {
   "cell_type": "markdown",
   "metadata": {},
   "source": [
    "## 7. Any notable differences in purchase behavior between subscribed and non-subscribed customers?\n"
   ]
  },
  {
   "cell_type": "code",
   "execution_count": 30,
   "metadata": {},
   "outputs": [
    {
     "data": {
      "text/plain": [
       "Index(['Customer ID', 'Age', 'Gender', 'Item Purchased', 'Category',\n",
       "       'Purchase Amount (USD)', 'Location', 'Size', 'Color', 'Season',\n",
       "       'Review Rating', 'Subscription Status', 'Shipping Type',\n",
       "       'Discount Applied', 'Promo Code Used', 'Previous Purchases',\n",
       "       'Payment Method', 'Frequency of Purchases', 'Age_category'],\n",
       "      dtype='object')"
      ]
     },
     "execution_count": 30,
     "metadata": {},
     "output_type": "execute_result"
    }
   ],
   "source": [
    "df.columns"
   ]
  },
  {
   "cell_type": "code",
   "execution_count": 31,
   "metadata": {},
   "outputs": [
    {
     "data": {
      "text/plain": [
       "array(['Yes', 'No'], dtype=object)"
      ]
     },
     "execution_count": 31,
     "metadata": {},
     "output_type": "execute_result"
    }
   ],
   "source": [
    "df[\"Subscription Status\"].unique()"
   ]
  },
  {
   "cell_type": "code",
   "execution_count": 32,
   "metadata": {},
   "outputs": [
    {
     "data": {
      "text/plain": [
       "<Axes: xlabel='Subscription Status', ylabel='Purchase Amount (USD)'>"
      ]
     },
     "execution_count": 32,
     "metadata": {},
     "output_type": "execute_result"
    },
    {
     "data": {
      "image/png": "[encoded data removed]",
      "text/plain": [
       "<Figure size 640x480 with 1 Axes>"
      ]
     },
     "metadata": {},
     "output_type": "display_data"
    }
   ],
   "source": [
    "sns.barplot(df  , x = 'Subscription Status' , y = 'Purchase Amount (USD)')"
   ]
  },
  {
   "cell_type": "code",
   "execution_count": 33,
   "metadata": {},
   "outputs": [
    {
     "data": {
      "text/plain": [
       "np.int64(233081)"
      ]
     },
     "execution_count": 33,
     "metadata": {},
     "output_type": "execute_result"
    }
   ],
   "source": [
    "df[\"Purchase Amount (USD)\"].sum()"
   ]
  },
  {
   "cell_type": "code",
   "execution_count": 34,
   "metadata": {},
   "outputs": [
    {
     "data": {
      "text/plain": [
       "Subscription Status\n",
       "No     59.865121\n",
       "Yes    59.491928\n",
       "Name: Purchase Amount (USD), dtype: float64"
      ]
     },
     "execution_count": 34,
     "metadata": {},
     "output_type": "execute_result"
    }
   ],
   "source": [
    "df.groupby(\"Subscription Status\")[\"Purchase Amount (USD)\"].mean()"
   ]
  },
  {
   "cell_type": "markdown",
   "metadata": {},
   "source": [
    "## 8. Payment method is the most popular among customers?"
   ]
  },
  {
   "cell_type": "code",
   "execution_count": 35,
   "metadata": {},
   "outputs": [
    {
     "data": {
      "text/plain": [
       "Payment Method\n",
       "Bank Transfer    59.712418\n",
       "Cash             59.704478\n",
       "Credit Card      60.074516\n",
       "Debit Card       60.915094\n",
       "PayPal           59.245199\n",
       "Venmo            58.949527\n",
       "Name: Purchase Amount (USD), dtype: float64"
      ]
     },
     "execution_count": 35,
     "metadata": {},
     "output_type": "execute_result"
    }
   ],
   "source": [
    "df.groupby('Payment Method')['Purchase Amount (USD)'].mean()"
   ]
  },
  {
   "cell_type": "code",
   "execution_count": 36,
   "metadata": {},
   "outputs": [],
   "source": [
    "payment_type=df.groupby('Payment Method')['Purchase Amount (USD)'].mean()\n"
   ]
  },
  {
   "cell_type": "code",
   "execution_count": 37,
   "metadata": {},
   "outputs": [
    {
     "data": {
      "text/plain": [
       "<Axes: xlabel='Payment Method', ylabel='Purchase Amount (USD)'>"
      ]
     },
     "execution_count": 37,
     "metadata": {},
     "output_type": "execute_result"
    },
    {
     "data": {
      "image/png": "[encoded data removed]",
      "text/plain": [
       "<Figure size 640x480 with 1 Axes>"
      ]
     },
     "metadata": {},
     "output_type": "display_data"
    }
   ],
   "source": [
    "sns.barplot(df,x = 'Payment Method' , y = 'Purchase Amount (USD)')\n"
   ]
  },
  {
   "cell_type": "markdown",
   "metadata": {},
   "source": [
    "## 9 Do customers who use promo codes tend to spend more than those who don't?"
   ]
  },
  {
   "cell_type": "code",
   "execution_count": 38,
   "metadata": {
    "notebookRunGroups": {
     "groupValue": "1"
    }
   },
   "outputs": [
    {
     "data": {
      "text/plain": [
       "Index(['Customer ID', 'Age', 'Gender', 'Item Purchased', 'Category',\n",
       "       'Purchase Amount (USD)', 'Location', 'Size', 'Color', 'Season',\n",
       "       'Review Rating', 'Subscription Status', 'Shipping Type',\n",
       "       'Discount Applied', 'Promo Code Used', 'Previous Purchases',\n",
       "       'Payment Method', 'Frequency of Purchases', 'Age_category'],\n",
       "      dtype='object')"
      ]
     },
     "execution_count": 38,
     "metadata": {},
     "output_type": "execute_result"
    }
   ],
   "source": [
    "df.columns"
   ]
  },
  {
   "cell_type": "code",
   "execution_count": 39,
   "metadata": {},
   "outputs": [],
   "source": [
    "shop_groupby  = df.groupby('Promo Code Used')['Purchase Amount (USD)'].sum().reset_index()"
   ]
  },
  {
   "cell_type": "code",
   "execution_count": 40,
   "metadata": {},
   "outputs": [
    {
     "data": {
      "application/vnd.plotly.v1+json": {
       "config": {
        "plotlyServerURL": "https://plot.ly"
       },
       "data": [
        {
         "alignmentgroup": "True",
         "hovertemplate": "Promo Code Used=%{x}<br>Purchase Amount (USD)=%{y}<extra></extra>",
         "legendgroup": "",
         "marker": {
          "color": "#636efa",
          "pattern": {
           "shape": ""
          }
         },
         "name": "",
         "offsetgroup": "",
         "orientation": "v",
         "showlegend": false,
         "textposition": "auto",
         "type": "bar",
         "x": [
          "No",
          "Yes"
         ],
         "xaxis": "x",
         "y": [
          133670,
          99411
         ],
         "yaxis": "y"
        }
       ],
       "layout": {
        "barmode": "relative",
        "legend": {
         "tracegroupgap": 0
        },
        "margin": {
         "t": 60
        },
        "template": {
         "data": {
          "bar": [
           {
            "error_x": {
             "color": "#2a3f5f"
            },
            "error_y": {
             "color": "#2a3f5f"
            },
            "marker": {
             "line": {
              "color": "#E5ECF6",
              "width": 0.5
             },
             "pattern": {
              "fillmode": "overlay",
              "size": 10,
              "solidity": 0.2
             }
            },
            "type": "bar"
           }
          ],
          "barpolar": [
           {
            "marker": {
             "line": {
              "color": "#E5ECF6",
              "width": 0.5
             },
             "pattern": {
              "fillmode": "overlay",
              "size": 10,
              "solidity": 0.2
             }
            },
            "type": "barpolar"
           }
          ],
          "carpet": [
           {
            "aaxis": {
             "endlinecolor": "#2a3f5f",
             "gridcolor": "white",
             "linecolor": "white",
             "minorgridcolor": "white",
             "startlinecolor": "#2a3f5f"
            },
            "baxis": {
             "endlinecolor": "#2a3f5f",
             "gridcolor": "white",
             "linecolor": "white",
             "minorgridcolor": "white",
             "startlinecolor": "#2a3f5f"
            },
            "type": "carpet"
           }
          ],
          "choropleth": [
           {
            "colorbar": {
             "outlinewidth": 0,
             "ticks": ""
            },
            "type": "choropleth"
           }
          ],
          "contour": [
           {
            "colorbar": {
             "outlinewidth": 0,
             "ticks": ""
            },
            "colorscale": [
             [
              0,
              "#0d0887"
             ],
             [
              0.1111111111111111,
              "#46039f"
             ],
             [
              0.2222222222222222,
              "#7201a8"
             ],
             [
              0.3333333333333333,
              "#9c179e"
             ],
             [
              0.4444444444444444,
              "#bd3786"
             ],
             [
              0.5555555555555556,
              "#d8576b"
             ],
             [
              0.6666666666666666,
              "#ed7953"
             ],
             [
              0.7777777777777778,
              "#fb9f3a"
             ],
             [
              0.8888888888888888,
              "#fdca26"
             ],
             [
              1,
              "#f0f921"
             ]
            ],
            "type": "contour"
           }
          ],
          "contourcarpet": [
           {
            "colorbar": {
             "outlinewidth": 0,
             "ticks": ""
            },
            "type": "contourcarpet"
           }
          ],
          "heatmap": [
           {
            "colorbar": {
             "outlinewidth": 0,
             "ticks": ""
            },
            "colorscale": [
             [
              0,
              "#0d0887"
             ],
             [
              0.1111111111111111,
              "#46039f"
             ],
             [
              0.2222222222222222,
              "#7201a8"
             ],
             [
              0.3333333333333333,
              "#9c179e"
             ],
             [
              0.4444444444444444,
              "#bd3786"
             ],
             [
              0.5555555555555556,
              "#d8576b"
             ],
             [
              0.6666666666666666,
              "#ed7953"
             ],
             [
              0.7777777777777778,
              "#fb9f3a"
             ],
             [
              0.8888888888888888,
              "#fdca26"
             ],
             [
              1,
              "#f0f921"
             ]
            ],
            "type": "heatmap"
           }
          ],
          "heatmapgl": [
           {
            "colorbar": {
             "outlinewidth": 0,
             "ticks": ""
            },
            "colorscale": [
             [
              0,
              "#0d0887"
             ],
             [
              0.1111111111111111,
              "#46039f"
             ],
             [
              0.2222222222222222,
              "#7201a8"
             ],
             [
              0.3333333333333333,
              "#9c179e"
             ],
             [
              0.4444444444444444,
              "#bd3786"
             ],
             [
              0.5555555555555556,
              "#d8576b"
             ],
             [
              0.6666666666666666,
              "#ed7953"
             ],
             [
              0.7777777777777778,
              "#fb9f3a"
             ],
             [
              0.8888888888888888,
              "#fdca26"
             ],
             [
              1,
              "#f0f921"
             ]
            ],
            "type": "heatmapgl"
           }
          ],
          "histogram": [
           {
            "marker": {
             "pattern": {
              "fillmode": "overlay",
              "size": 10,
              "solidity": 0.2
             }
            },
            "type": "histogram"
           }
          ],
          "histogram2d": [
           {
            "colorbar": {
             "outlinewidth": 0,
             "ticks": ""
            },
            "colorscale": [
             [
              0,
              "#0d0887"
             ],
             [
              0.1111111111111111,
              "#46039f"
             ],
             [
              0.2222222222222222,
              "#7201a8"
             ],
             [
              0.3333333333333333,
              "#9c179e"
             ],
             [
              0.4444444444444444,
              "#bd3786"
             ],
             [
              0.5555555555555556,
              "#d8576b"
             ],
             [
              0.6666666666666666,
              "#ed7953"
             ],
             [
              0.7777777777777778,
              "#fb9f3a"
             ],
             [
              0.8888888888888888,
              "#fdca26"
             ],
             [
              1,
              "#f0f921"
             ]
            ],
            "type": "histogram2d"
           }
          ],
          "histogram2dcontour": [
           {
            "colorbar": {
             "outlinewidth": 0,
             "ticks": ""
            },
            "colorscale": [
             [
              0,
              "#0d0887"
             ],
             [
              0.1111111111111111,
              "#46039f"
             ],
             [
              0.2222222222222222,
              "#7201a8"
             ],
             [
              0.3333333333333333,
              "#9c179e"
             ],
             [
              0.4444444444444444,
              "#bd3786"
             ],
             [
              0.5555555555555556,
              "#d8576b"
             ],
             [
              0.6666666666666666,
              "#ed7953"
             ],
             [
              0.7777777777777778,
              "#fb9f3a"
             ],
             [
              0.8888888888888888,
              "#fdca26"
             ],
             [
              1,
              "#f0f921"
             ]
            ],
            "type": "histogram2dcontour"
           }
          ],
          "mesh3d": [
           {
            "colorbar": {
             "outlinewidth": 0,
             "ticks": ""
            },
            "type": "mesh3d"
           }
          ],
          "parcoords": [
           {
            "line": {
             "colorbar": {
              "outlinewidth": 0,
              "ticks": ""
             }
            },
            "type": "parcoords"
           }
          ],
          "pie": [
           {
            "automargin": true,
            "type": "pie"
           }
          ],
          "scatter": [
           {
            "fillpattern": {
             "fillmode": "overlay",
             "size": 10,
             "solidity": 0.2
            },
            "type": "scatter"
           }
          ],
          "scatter3d": [
           {
            "line": {
             "colorbar": {
              "outlinewidth": 0,
              "ticks": ""
             }
            },
            "marker": {
             "colorbar": {
              "outlinewidth": 0,
              "ticks": ""
             }
            },
            "type": "scatter3d"
           }
          ],
          "scattercarpet": [
           {
            "marker": {
             "colorbar": {
              "outlinewidth": 0,
              "ticks": ""
             }
            },
            "type": "scattercarpet"
           }
          ],
          "scattergeo": [
           {
            "marker": {
             "colorbar": {
              "outlinewidth": 0,
              "ticks": ""
             }
            },
            "type": "scattergeo"
           }
          ],
          "scattergl": [
           {
            "marker": {
             "colorbar": {
              "outlinewidth": 0,
              "ticks": ""
             }
            },
            "type": "scattergl"
           }
          ],
          "scattermapbox": [
           {
            "marker": {
             "colorbar": {
              "outlinewidth": 0,
              "ticks": ""
             }
            },
            "type": "scattermapbox"
           }
          ],
          "scatterpolar": [
           {
            "marker": {
             "colorbar": {
              "outlinewidth": 0,
              "ticks": ""
             }
            },
            "type": "scatterpolar"
           }
          ],
          "scatterpolargl": [
           {
            "marker": {
             "colorbar": {
              "outlinewidth": 0,
              "ticks": ""
             }
            },
            "type": "scatterpolargl"
           }
          ],
          "scatterternary": [
           {
            "marker": {
             "colorbar": {
              "outlinewidth": 0,
              "ticks": ""
             }
            },
            "type": "scatterternary"
           }
          ],
          "surface": [
           {
            "colorbar": {
             "outlinewidth": 0,
             "ticks": ""
            },
            "colorscale": [
             [
              0,
              "#0d0887"
             ],
             [
              0.1111111111111111,
              "#46039f"
             ],
             [
              0.2222222222222222,
              "#7201a8"
             ],
             [
              0.3333333333333333,
              "#9c179e"
             ],
             [
              0.4444444444444444,
              "#bd3786"
             ],
             [
              0.5555555555555556,
              "#d8576b"
             ],
             [
              0.6666666666666666,
              "#ed7953"
             ],
             [
              0.7777777777777778,
              "#fb9f3a"
             ],
             [
              0.8888888888888888,
              "#fdca26"
             ],
             [
              1,
              "#f0f921"
             ]
            ],
            "type": "surface"
           }
          ],
          "table": [
           {
            "cells": {
             "fill": {
              "color": "#EBF0F8"
             },
             "line": {
              "color": "white"
             }
            },
            "header": {
             "fill": {
              "color": "#C8D4E3"
             },
             "line": {
              "color": "white"
             }
            },
            "type": "table"
           }
          ]
         },
         "layout": {
          "annotationdefaults": {
           "arrowcolor": "#2a3f5f",
           "arrowhead": 0,
           "arrowwidth": 1
          },
          "autotypenumbers": "strict",
          "coloraxis": {
           "colorbar": {
            "outlinewidth": 0,
            "ticks": ""
           }
          },
          "colorscale": {
           "diverging": [
            [
             0,
             "#8e0152"
            ],
            [
             0.1,
             "#c51b7d"
            ],
            [
             0.2,
             "#de77ae"
            ],
            [
             0.3,
             "#f1b6da"
            ],
            [
             0.4,
             "#fde0ef"
            ],
            [
             0.5,
             "#f7f7f7"
            ],
            [
             0.6,
             "#e6f5d0"
            ],
            [
             0.7,
             "#b8e186"
            ],
            [
             0.8,
             "#7fbc41"
            ],
            [
             0.9,
             "#4d9221"
            ],
            [
             1,
             "#276419"
            ]
           ],
           "sequential": [
            [
             0,
             "#0d0887"
            ],
            [
             0.1111111111111111,
             "#46039f"
            ],
            [
             0.2222222222222222,
             "#7201a8"
            ],
            [
             0.3333333333333333,
             "#9c179e"
            ],
            [
             0.4444444444444444,
             "#bd3786"
            ],
            [
             0.5555555555555556,
             "#d8576b"
            ],
            [
             0.6666666666666666,
             "#ed7953"
            ],
            [
             0.7777777777777778,
             "#fb9f3a"
            ],
            [
             0.8888888888888888,
             "#fdca26"
            ],
            [
             1,
             "#f0f921"
            ]
           ],
           "sequentialminus": [
            [
             0,
             "#0d0887"
            ],
            [
             0.1111111111111111,
             "#46039f"
            ],
            [
             0.2222222222222222,
             "#7201a8"
            ],
            [
             0.3333333333333333,
             "#9c179e"
            ],
            [
             0.4444444444444444,
             "#bd3786"
            ],
            [
             0.5555555555555556,
             "#d8576b"
            ],
            [
             0.6666666666666666,
             "#ed7953"
            ],
            [
             0.7777777777777778,
             "#fb9f3a"
            ],
            [
             0.8888888888888888,
             "#fdca26"
            ],
            [
             1,
             "#f0f921"
            ]
           ]
          },
          "colorway": [
           "#636efa",
           "#EF553B",
           "#00cc96",
           "#ab63fa",
           "#FFA15A",
           "#19d3f3",
           "#FF6692",
           "#B6E880",
           "#FF97FF",
           "#FECB52"
          ],
          "font": {
           "color": "#2a3f5f"
          },
          "geo": {
           "bgcolor": "white",
           "lakecolor": "white",
           "landcolor": "#E5ECF6",
           "showlakes": true,
           "showland": true,
           "subunitcolor": "white"
          },
          "hoverlabel": {
           "align": "left"
          },
          "hovermode": "closest",
          "mapbox": {
           "style": "light"
          },
          "paper_bgcolor": "white",
          "plot_bgcolor": "#E5ECF6",
          "polar": {
           "angularaxis": {
            "gridcolor": "white",
            "linecolor": "white",
            "ticks": ""
           },
           "bgcolor": "#E5ECF6",
           "radialaxis": {
            "gridcolor": "white",
            "linecolor": "white",
            "ticks": ""
           }
          },
          "scene": {
           "xaxis": {
            "backgroundcolor": "#E5ECF6",
            "gridcolor": "white",
            "gridwidth": 2,
            "linecolor": "white",
            "showbackground": true,
            "ticks": "",
            "zerolinecolor": "white"
           },
           "yaxis": {
            "backgroundcolor": "#E5ECF6",
            "gridcolor": "white",
            "gridwidth": 2,
            "linecolor": "white",
            "showbackground": true,
            "ticks": "",
            "zerolinecolor": "white"
           },
           "zaxis": {
            "backgroundcolor": "#E5ECF6",
            "gridcolor": "white",
            "gridwidth": 2,
            "linecolor": "white",
            "showbackground": true,
            "ticks": "",
            "zerolinecolor": "white"
           }
          },
          "shapedefaults": {
           "line": {
            "color": "#2a3f5f"
           }
          },
          "ternary": {
           "aaxis": {
            "gridcolor": "white",
            "linecolor": "white",
            "ticks": ""
           },
           "baxis": {
            "gridcolor": "white",
            "linecolor": "white",
            "ticks": ""
           },
           "bgcolor": "#E5ECF6",
           "caxis": {
            "gridcolor": "white",
            "linecolor": "white",
            "ticks": ""
           }
          },
          "title": {
           "x": 0.05
          },
          "xaxis": {
           "automargin": true,
           "gridcolor": "white",
           "linecolor": "white",
           "ticks": "",
           "title": {
            "standoff": 15
           },
           "zerolinecolor": "white",
           "zerolinewidth": 2
          },
          "yaxis": {
           "automargin": true,
           "gridcolor": "white",
           "linecolor": "white",
           "ticks": "",
           "title": {
            "standoff": 15
           },
           "zerolinecolor": "white",
           "zerolinewidth": 2
          }
         }
        },
        "xaxis": {
         "anchor": "y",
         "domain": [
          0,
          1
         ],
         "title": {
          "text": "Promo Code Used"
         }
        },
        "yaxis": {
         "anchor": "x",
         "domain": [
          0,
          1
         ],
         "title": {
          "text": "Purchase Amount (USD)"
         }
        }
       }
      }
     },
     "metadata": {},
     "output_type": "display_data"
    }
   ],
   "source": [
    "fig  =  px.bar(shop_groupby , x= 'Promo Code Used' , y = 'Purchase Amount (USD)')\n",
    "fig.show()"
   ]
  },
  {
   "cell_type": "markdown",
   "metadata": {},
   "source": [
    "## 10 How does the frequency of purchases vary across different age groups?"
   ]
  },
  {
   "cell_type": "code",
   "execution_count": 41,
   "metadata": {},
   "outputs": [
    {
     "data": {
      "text/html": [
       "<div>\n",
       "<style scoped>\n",
       "    .dataframe tbody tr th:only-of-type {\n",
       "        vertical-align: middle;\n",
       "    }\n",
       "\n",
       "    .dataframe tbody tr th {\n",
       "        vertical-align: top;\n",
       "    }\n",
       "\n",
       "    .dataframe thead th {\n",
       "        text-align: right;\n",
       "    }\n",
       "</style>\n",
       "<table border=\"1\" class=\"dataframe\">\n",
       "  <thead>\n",
       "    <tr style=\"text-align: right;\">\n",
       "      <th></th>\n",
       "      <th>Age</th>\n",
       "      <th>Age_category</th>\n",
       "    </tr>\n",
       "  </thead>\n",
       "  <tbody>\n",
       "    <tr>\n",
       "      <th>0</th>\n",
       "      <td>55</td>\n",
       "      <td>old</td>\n",
       "    </tr>\n",
       "    <tr>\n",
       "      <th>1</th>\n",
       "      <td>19</td>\n",
       "      <td>Young Adults</td>\n",
       "    </tr>\n",
       "    <tr>\n",
       "      <th>2</th>\n",
       "      <td>50</td>\n",
       "      <td>Middle-Aged Adults</td>\n",
       "    </tr>\n",
       "    <tr>\n",
       "      <th>3</th>\n",
       "      <td>21</td>\n",
       "      <td>Young Adults</td>\n",
       "    </tr>\n",
       "    <tr>\n",
       "      <th>4</th>\n",
       "      <td>45</td>\n",
       "      <td>Middle-Aged Adults</td>\n",
       "    </tr>\n",
       "  </tbody>\n",
       "</table>\n",
       "</div>"
      ],
      "text/plain": [
       "   Age        Age_category\n",
       "0   55                 old\n",
       "1   19        Young Adults\n",
       "2   50  Middle-Aged Adults\n",
       "3   21        Young Adults\n",
       "4   45  Middle-Aged Adults"
      ]
     },
     "execution_count": 41,
     "metadata": {},
     "output_type": "execute_result"
    }
   ],
   "source": [
    "df[['Age', 'Age_category']].head()"
   ]
  },
  {
   "cell_type": "code",
   "execution_count": 42,
   "metadata": {},
   "outputs": [
    {
     "data": {
      "text/plain": [
       "['old', 'Young Adults', 'Middle-Aged Adults', 'teen']\n",
       "Categories (5, object): ['child' < 'teen' < 'Young Adults' < 'Middle-Aged Adults' < 'old']"
      ]
     },
     "execution_count": 42,
     "metadata": {},
     "output_type": "execute_result"
    }
   ],
   "source": [
    "df[\"Age_category\"].unique()"
   ]
  },
  {
   "cell_type": "code",
   "execution_count": 43,
   "metadata": {},
   "outputs": [
    {
     "data": {
      "text/plain": [
       "<BarContainer object of 3900 artists>"
      ]
     },
     "execution_count": 43,
     "metadata": {},
     "output_type": "execute_result"
    },
    {
     "data": {
      "image/png": "[encoded data removed]",
      "text/plain": [
       "<Figure size 640x480 with 1 Axes>"
      ]
     },
     "metadata": {},
     "output_type": "display_data"
    }
   ],
   "source": [
    "plt.bar(df['Frequency of Purchases'], df['Age'])"
   ]
  },
  {
   "cell_type": "markdown",
   "metadata": {},
   "source": [
    "## 11 Are there any correlations between the size of the product and the purchase amount?"
   ]
  },
  {
   "cell_type": "code",
   "execution_count": 44,
   "metadata": {},
   "outputs": [
    {
     "data": {
      "text/plain": [
       "Index(['Customer ID', 'Age', 'Gender', 'Item Purchased', 'Category',\n",
       "       'Purchase Amount (USD)', 'Location', 'Size', 'Color', 'Season',\n",
       "       'Review Rating', 'Subscription Status', 'Shipping Type',\n",
       "       'Discount Applied', 'Promo Code Used', 'Previous Purchases',\n",
       "       'Payment Method', 'Frequency of Purchases', 'Age_category'],\n",
       "      dtype='object')"
      ]
     },
     "execution_count": 44,
     "metadata": {},
     "output_type": "execute_result"
    }
   ],
   "source": [
    "df.columns"
   ]
  },
  {
   "cell_type": "code",
   "execution_count": 45,
   "metadata": {},
   "outputs": [
    {
     "data": {
      "text/html": [
       "<div>\n",
       "<style scoped>\n",
       "    .dataframe tbody tr th:only-of-type {\n",
       "        vertical-align: middle;\n",
       "    }\n",
       "\n",
       "    .dataframe tbody tr th {\n",
       "        vertical-align: top;\n",
       "    }\n",
       "\n",
       "    .dataframe thead th {\n",
       "        text-align: right;\n",
       "    }\n",
       "</style>\n",
       "<table border=\"1\" class=\"dataframe\">\n",
       "  <thead>\n",
       "    <tr style=\"text-align: right;\">\n",
       "      <th></th>\n",
       "      <th>Size</th>\n",
       "      <th>Purchase Amount (USD)</th>\n",
       "    </tr>\n",
       "  </thead>\n",
       "  <tbody>\n",
       "    <tr>\n",
       "      <th>0</th>\n",
       "      <td>L</td>\n",
       "      <td>61667</td>\n",
       "    </tr>\n",
       "    <tr>\n",
       "      <th>1</th>\n",
       "      <td>M</td>\n",
       "      <td>105167</td>\n",
       "    </tr>\n",
       "    <tr>\n",
       "      <th>2</th>\n",
       "      <td>S</td>\n",
       "      <td>40468</td>\n",
       "    </tr>\n",
       "    <tr>\n",
       "      <th>3</th>\n",
       "      <td>XL</td>\n",
       "      <td>25779</td>\n",
       "    </tr>\n",
       "  </tbody>\n",
       "</table>\n",
       "</div>"
      ],
      "text/plain": [
       "  Size  Purchase Amount (USD)\n",
       "0    L                  61667\n",
       "1    M                 105167\n",
       "2    S                  40468\n",
       "3   XL                  25779"
      ]
     },
     "execution_count": 45,
     "metadata": {},
     "output_type": "execute_result"
    }
   ],
   "source": [
    "df.groupby('Size')['Purchase Amount (USD)'].sum().reset_index()"
   ]
  },
  {
   "cell_type": "markdown",
   "metadata": {},
   "source": [
    "## 12 Which shipping type is preferred by customers for different product categories?"
   ]
  },
  {
   "cell_type": "code",
   "execution_count": 46,
   "metadata": {},
   "outputs": [
    {
     "data": {
      "text/plain": [
       "Index(['Customer ID', 'Age', 'Gender', 'Item Purchased', 'Category',\n",
       "       'Purchase Amount (USD)', 'Location', 'Size', 'Color', 'Season',\n",
       "       'Review Rating', 'Subscription Status', 'Shipping Type',\n",
       "       'Discount Applied', 'Promo Code Used', 'Previous Purchases',\n",
       "       'Payment Method', 'Frequency of Purchases', 'Age_category'],\n",
       "      dtype='object')"
      ]
     },
     "execution_count": 46,
     "metadata": {},
     "output_type": "execute_result"
    }
   ],
   "source": [
    "df.columns"
   ]
  },
  {
   "cell_type": "code",
   "execution_count": 47,
   "metadata": {},
   "outputs": [
    {
     "data": {
      "text/plain": [
       "Category     Shipping Type \n",
       "Clothing     Standard          297\n",
       "             Free Shipping     294\n",
       "             Next Day Air      293\n",
       "             Express           290\n",
       "             Store Pickup      282\n",
       "             2-Day Shipping    281\n",
       "Accessories  Store Pickup      217\n",
       "             Next Day Air      211\n",
       "             Standard          208\n",
       "             2-Day Shipping    206\n",
       "             Express           203\n",
       "             Free Shipping     195\n",
       "Footwear     Free Shipping     122\n",
       "             Standard          100\n",
       "             Store Pickup       98\n",
       "             Express            96\n",
       "             Next Day Air       93\n",
       "             2-Day Shipping     90\n",
       "Outerwear    Free Shipping      64\n",
       "             Express            57\n",
       "             Store Pickup       53\n",
       "             Next Day Air       51\n",
       "             2-Day Shipping     50\n",
       "             Standard           49\n",
       "Name: count, dtype: int64"
      ]
     },
     "execution_count": 47,
     "metadata": {},
     "output_type": "execute_result"
    }
   ],
   "source": [
    "df.groupby('Category')['Shipping Type'].value_counts().sort_values(ascending= False)"
   ]
  },
  {
   "cell_type": "code",
   "execution_count": 48,
   "metadata": {},
   "outputs": [],
   "source": [
    "df['Shipping_Category'] =df['Shipping Type'].map({'Express': 0, 'Free Shipping': 1, 'Next Day Air': 2,\n",
    "                                                       'Standard': 3, '2-Day Shipping': 4, 'Store Pickup': 5})"
   ]
  },
  {
   "cell_type": "code",
   "execution_count": 49,
   "metadata": {},
   "outputs": [
    {
     "data": {
      "text/plain": [
       "array(['Clothing', 'Footwear', 'Outerwear', 'Accessories'], dtype=object)"
      ]
     },
     "execution_count": 49,
     "metadata": {},
     "output_type": "execute_result"
    }
   ],
   "source": [
    "df['Category'].unique()"
   ]
  },
  {
   "cell_type": "markdown",
   "metadata": {},
   "source": [
    "## 13 How does the presence of a discount affect the purchase decision of customers?"
   ]
  },
  {
   "cell_type": "code",
   "execution_count": 50,
   "metadata": {},
   "outputs": [
    {
     "data": {
      "text/plain": [
       "Index(['Customer ID', 'Age', 'Gender', 'Item Purchased', 'Category',\n",
       "       'Purchase Amount (USD)', 'Location', 'Size', 'Color', 'Season',\n",
       "       'Review Rating', 'Subscription Status', 'Shipping Type',\n",
       "       'Discount Applied', 'Promo Code Used', 'Previous Purchases',\n",
       "       'Payment Method', 'Frequency of Purchases', 'Age_category',\n",
       "       'Shipping_Category'],\n",
       "      dtype='object')"
      ]
     },
     "execution_count": 50,
     "metadata": {},
     "output_type": "execute_result"
    }
   ],
   "source": [
    "df.columns"
   ]
  },
  {
   "cell_type": "code",
   "execution_count": 51,
   "metadata": {},
   "outputs": [],
   "source": [
    "shop_group = df.groupby('Discount Applied')['Purchase Amount (USD)'].sum().reset_index()"
   ]
  },
  {
   "cell_type": "markdown",
   "metadata": {},
   "source": [
    "## 14 Are there any specific colors that are more popular among customers?"
   ]
  },
  {
   "cell_type": "code",
   "execution_count": 52,
   "metadata": {},
   "outputs": [
    {
     "data": {
      "application/vnd.plotly.v1+json": {
       "config": {
        "plotlyServerURL": "https://plot.ly"
       },
       "data": [
        {
         "alignmentgroup": "True",
         "bingroup": "x",
         "hovertemplate": "Color=%{x}<br>count=%{y}<extra></extra>",
         "legendgroup": "",
         "marker": {
          "color": "#636efa",
          "pattern": {
           "shape": ""
          }
         },
         "name": "",
         "offsetgroup": "",
         "orientation": "v",
         "showlegend": false,
         "type": "histogram",
         "x": [
          "Gray",
          "Maroon",
          "Maroon",
          "Maroon",
          "Turquoise",
          "White",
          "Gray",
          "Charcoal",
          "Silver",
          "Pink",
          "Purple",
          "Olive",
          "Gold",
          "Violet",
          "Teal",
          "Teal",
          "Gray",
          "Lavender",
          "Black",
          "Green",
          "Black",
          "Charcoal",
          "Peach",
          "White",
          "Green",
          "Silver",
          "Red",
          "Cyan",
          "Gray",
          "Black",
          "Black",
          "Brown",
          "Silver",
          "Green",
          "Violet",
          "Cyan",
          "Maroon",
          "Cyan",
          "Red",
          "Turquoise",
          "Beige",
          "Orange",
          "Beige",
          "Lavender",
          "Silver",
          "Indigo",
          "White",
          "Charcoal",
          "Orange",
          "Indigo",
          "Red",
          "Gray",
          "Green",
          "Peach",
          "Brown",
          "Lavender",
          "Brown",
          "White",
          "Charcoal",
          "Yellow",
          "Brown",
          "Orange",
          "Magenta",
          "Lavender",
          "Green",
          "Purple",
          "Magenta",
          "Gray",
          "Silver",
          "Cyan",
          "Magenta",
          "Gold",
          "Olive",
          "Teal",
          "Violet",
          "Blue",
          "Teal",
          "Gold",
          "Maroon",
          "Olive",
          "Blue",
          "Maroon",
          "Olive",
          "Turquoise",
          "Peach",
          "Charcoal",
          "Pink",
          "Green",
          "Orange",
          "Pink",
          "Violet",
          "Green",
          "Olive",
          "Purple",
          "Silver",
          "Pink",
          "Gold",
          "Teal",
          "Teal",
          "Indigo",
          "Maroon",
          "White",
          "Violet",
          "Red",
          "Pink",
          "Charcoal",
          "White",
          "Olive",
          "Purple",
          "Violet",
          "Black",
          "Purple",
          "Red",
          "Maroon",
          "Blue",
          "Gray",
          "Blue",
          "Yellow",
          "Orange",
          "Orange",
          "Red",
          "Olive",
          "Brown",
          "Brown",
          "Gray",
          "Indigo",
          "Pink",
          "Gray",
          "Gold",
          "Olive",
          "Violet",
          "Indigo",
          "Orange",
          "Violet",
          "Gray",
          "Purple",
          "White",
          "Turquoise",
          "Maroon",
          "White",
          "Yellow",
          "Turquoise",
          "Violet",
          "Beige",
          "Silver",
          "Teal",
          "Black",
          "Purple",
          "Gray",
          "White",
          "Cyan",
          "Turquoise",
          "Brown",
          "Maroon",
          "Charcoal",
          "Olive",
          "Lavender",
          "Yellow",
          "Teal",
          "Charcoal",
          "Orange",
          "Olive",
          "Turquoise",
          "Purple",
          "Purple",
          "Yellow",
          "Indigo",
          "Green",
          "Magenta",
          "Gold",
          "Maroon",
          "Blue",
          "Violet",
          "Turquoise",
          "Brown",
          "Violet",
          "Black",
          "Magenta",
          "Lavender",
          "Violet",
          "Green",
          "Beige",
          "Purple",
          "Beige",
          "Cyan",
          "Silver",
          "Lavender",
          "Purple",
          "Pink",
          "Maroon",
          "Beige",
          "Gray",
          "Turquoise",
          "Silver",
          "Olive",
          "Magenta",
          "Lavender",
          "Black",
          "Turquoise",
          "Green",
          "Teal",
          "Beige",
          "Magenta",
          "Yellow",
          "Yellow",
          "Silver",
          "Silver",
          "Silver",
          "Gold",
          "Olive",
          "Teal",
          "Maroon",
          "Blue",
          "Peach",
          "Blue",
          "Orange",
          "Yellow",
          "Purple",
          "Magenta",
          "Cyan",
          "Indigo",
          "Magenta",
          "Gray",
          "Turquoise",
          "Beige",
          "Olive",
          "Violet",
          "Turquoise",
          "White",
          "Silver",
          "Olive",
          "Blue",
          "Purple",
          "Yellow",
          "Silver",
          "Cyan",
          "Green",
          "Beige",
          "Peach",
          "Yellow",
          "Turquoise",
          "Peach",
          "Gray",
          "Olive",
          "Indigo",
          "Charcoal",
          "Beige",
          "Brown",
          "Blue",
          "Teal",
          "Black",
          "Gold",
          "Violet",
          "Cyan",
          "White",
          "Charcoal",
          "Violet",
          "Red",
          "Lavender",
          "Gold",
          "Red",
          "Magenta",
          "Teal",
          "Purple",
          "Charcoal",
          "Gray",
          "White",
          "Olive",
          "Charcoal",
          "Charcoal",
          "Orange",
          "Yellow",
          "Beige",
          "Silver",
          "Indigo",
          "Lavender",
          "Turquoise",
          "Green",
          "Orange",
          "Turquoise",
          "Cyan",
          "Charcoal",
          "Teal",
          "Maroon",
          "Red",
          "Yellow",
          "Gray",
          "Blue",
          "Lavender",
          "Yellow",
          "Indigo",
          "Violet",
          "Green",
          "White",
          "Gold",
          "Indigo",
          "Lavender",
          "Purple",
          "Lavender",
          "Maroon",
          "Teal",
          "Green",
          "Olive",
          "Turquoise",
          "Green",
          "Teal",
          "White",
          "Orange",
          "Beige",
          "Yellow",
          "Charcoal",
          "Silver",
          "Green",
          "Pink",
          "Purple",
          "Orange",
          "Charcoal",
          "Teal",
          "Beige",
          "White",
          "White",
          "Orange",
          "Cyan",
          "Orange",
          "Olive",
          "Charcoal",
          "White",
          "Teal",
          "Yellow",
          "White",
          "Beige",
          "Beige",
          "Maroon",
          "Teal",
          "Lavender",
          "Maroon",
          "Orange",
          "Cyan",
          "Silver",
          "Teal",
          "Blue",
          "Blue",
          "Olive",
          "Purple",
          "Charcoal",
          "Olive",
          "Violet",
          "Red",
          "Beige",
          "Green",
          "Violet",
          "Teal",
          "Yellow",
          "Yellow",
          "Olive",
          "Magenta",
          "Black",
          "Olive",
          "Magenta",
          "Olive",
          "Teal",
          "White",
          "Charcoal",
          "Yellow",
          "Charcoal",
          "Gray",
          "Turquoise",
          "Cyan",
          "Charcoal",
          "Silver",
          "Olive",
          "Pink",
          "Orange",
          "White",
          "Purple",
          "Olive",
          "Gray",
          "Silver",
          "Orange",
          "Magenta",
          "Beige",
          "Lavender",
          "Peach",
          "Magenta",
          "Beige",
          "Yellow",
          "Brown",
          "Silver",
          "Orange",
          "Purple",
          "Indigo",
          "Gray",
          "Black",
          "Maroon",
          "Beige",
          "Brown",
          "Black",
          "Indigo",
          "Silver",
          "Blue",
          "Green",
          "Orange",
          "Cyan",
          "Orange",
          "Indigo",
          "Silver",
          "Peach",
          "Teal",
          "White",
          "Brown",
          "Lavender",
          "Indigo",
          "Yellow",
          "White",
          "Violet",
          "Lavender",
          "Olive",
          "Beige",
          "Purple",
          "Teal",
          "Peach",
          "Violet",
          "Purple",
          "Teal",
          "Gold",
          "Teal",
          "Violet",
          "Black",
          "Gold",
          "Gold",
          "Brown",
          "Cyan",
          "Indigo",
          "Orange",
          "Pink",
          "Olive",
          "Cyan",
          "Peach",
          "Turquoise",
          "Turquoise",
          "Maroon",
          "Maroon",
          "Olive",
          "Magenta",
          "Red",
          "Olive",
          "Silver",
          "Turquoise",
          "Yellow",
          "Peach",
          "Beige",
          "Pink",
          "Violet",
          "Peach",
          "Gold",
          "Gold",
          "Indigo",
          "Blue",
          "Black",
          "Black",
          "Teal",
          "Yellow",
          "White",
          "Orange",
          "Silver",
          "Pink",
          "Turquoise",
          "Orange",
          "Peach",
          "Pink",
          "Teal",
          "White",
          "Gray",
          "Olive",
          "Maroon",
          "Magenta",
          "Magenta",
          "Green",
          "Turquoise",
          "Yellow",
          "Gray",
          "Peach",
          "Yellow",
          "White",
          "Lavender",
          "Blue",
          "Charcoal",
          "Red",
          "Olive",
          "Green",
          "Silver",
          "Silver",
          "Black",
          "Red",
          "Indigo",
          "Cyan",
          "Maroon",
          "Silver",
          "Lavender",
          "Silver",
          "Purple",
          "Cyan",
          "Cyan",
          "Lavender",
          "Maroon",
          "Gray",
          "Olive",
          "Magenta",
          "Yellow",
          "Cyan",
          "Teal",
          "Yellow",
          "Peach",
          "Peach",
          "Olive",
          "Charcoal",
          "Indigo",
          "Silver",
          "Beige",
          "Blue",
          "White",
          "Gold",
          "Blue",
          "Orange",
          "Gold",
          "Cyan",
          "Red",
          "Yellow",
          "Beige",
          "Orange",
          "Magenta",
          "Purple",
          "Black",
          "Pink",
          "Pink",
          "Maroon",
          "Maroon",
          "Turquoise",
          "Green",
          "Violet",
          "Lavender",
          "Gray",
          "Teal",
          "Red",
          "Yellow",
          "Magenta",
          "Brown",
          "Blue",
          "Black",
          "Olive",
          "Olive",
          "Green",
          "Peach",
          "White",
          "Red",
          "White",
          "Indigo",
          "White",
          "Teal",
          "Indigo",
          "Red",
          "Blue",
          "Blue",
          "Black",
          "Olive",
          "Lavender",
          "Indigo",
          "Red",
          "Red",
          "Pink",
          "Purple",
          "Cyan",
          "Cyan",
          "Charcoal",
          "Red",
          "Peach",
          "Black",
          "Black",
          "Purple",
          "Violet",
          "Orange",
          "Charcoal",
          "Turquoise",
          "Yellow",
          "White",
          "Gray",
          "Blue",
          "Maroon",
          "Violet",
          "Orange",
          "Turquoise",
          "Olive",
          "Brown",
          "Green",
          "Brown",
          "Silver",
          "White",
          "Gold",
          "Green",
          "Teal",
          "Charcoal",
          "Maroon",
          "Lavender",
          "Green",
          "Pink",
          "Charcoal",
          "Blue",
          "Purple",
          "Gold",
          "Purple",
          "Charcoal",
          "Black",
          "Lavender",
          "Lavender",
          "Lavender",
          "Olive",
          "Teal",
          "Maroon",
          "Cyan",
          "Charcoal",
          "Black",
          "Red",
          "Peach",
          "White",
          "Pink",
          "Red",
          "Indigo",
          "Black",
          "White",
          "Beige",
          "Silver",
          "Violet",
          "Red",
          "Orange",
          "Teal",
          "Brown",
          "Indigo",
          "Cyan",
          "Blue",
          "Olive",
          "Gray",
          "Red",
          "Red",
          "Green",
          "Blue",
          "Purple",
          "Pink",
          "Charcoal",
          "Brown",
          "Orange",
          "Magenta",
          "Yellow",
          "Beige",
          "Olive",
          "Gray",
          "Purple",
          "Beige",
          "White",
          "White",
          "Gold",
          "Olive",
          "Green",
          "Magenta",
          "Charcoal",
          "Indigo",
          "Peach",
          "Turquoise",
          "Blue",
          "Turquoise",
          "Gray",
          "Purple",
          "Black",
          "Peach",
          "Indigo",
          "Beige",
          "Yellow",
          "Peach",
          "Turquoise",
          "Teal",
          "Turquoise",
          "Magenta",
          "Purple",
          "Brown",
          "Violet",
          "Yellow",
          "Magenta",
          "Beige",
          "Turquoise",
          "Peach",
          "Orange",
          "Red",
          "Silver",
          "Cyan",
          "Turquoise",
          "Charcoal",
          "Peach",
          "Green",
          "Brown",
          "Yellow",
          "Charcoal",
          "Olive",
          "Red",
          "White",
          "Pink",
          "Black",
          "Indigo",
          "Turquoise",
          "Purple",
          "Beige",
          "Charcoal",
          "Turquoise",
          "Maroon",
          "Black",
          "Lavender",
          "Magenta",
          "Green",
          "Olive",
          "Green",
          "Peach",
          "Turquoise",
          "Orange",
          "Silver",
          "Blue",
          "Cyan",
          "Green",
          "Silver",
          "Yellow",
          "Gray",
          "Pink",
          "Beige",
          "Indigo",
          "Red",
          "Blue",
          "Cyan",
          "Violet",
          "Orange",
          "Maroon",
          "Teal",
          "Orange",
          "Purple",
          "Orange",
          "Yellow",
          "Charcoal",
          "Gray",
          "Charcoal",
          "Orange",
          "Red",
          "Gold",
          "Brown",
          "Olive",
          "Violet",
          "Indigo",
          "Yellow",
          "Teal",
          "Pink",
          "Violet",
          "Orange",
          "Red",
          "Peach",
          "Green",
          "Violet",
          "Yellow",
          "Pink",
          "Brown",
          "Silver",
          "Pink",
          "Cyan",
          "Brown",
          "Red",
          "Silver",
          "Gray",
          "Cyan",
          "Teal",
          "Indigo",
          "Yellow",
          "Gold",
          "Maroon",
          "Silver",
          "Yellow",
          "Blue",
          "Turquoise",
          "Indigo",
          "Green",
          "Purple",
          "Peach",
          "Purple",
          "Teal",
          "Green",
          "Yellow",
          "Purple",
          "Indigo",
          "Magenta",
          "Violet",
          "Maroon",
          "Yellow",
          "Beige",
          "Black",
          "Violet",
          "Violet",
          "Brown",
          "Gold",
          "Blue",
          "Teal",
          "Silver",
          "Maroon",
          "White",
          "Charcoal",
          "Brown",
          "Lavender",
          "Violet",
          "Lavender",
          "Green",
          "Olive",
          "Olive",
          "Pink",
          "Teal",
          "Cyan",
          "Gray",
          "Peach",
          "Teal",
          "Turquoise",
          "Green",
          "Magenta",
          "Green",
          "White",
          "Brown",
          "Purple",
          "Green",
          "Peach",
          "Silver",
          "Maroon",
          "Red",
          "Blue",
          "Purple",
          "Indigo",
          "Indigo",
          "Violet",
          "Brown",
          "Gray",
          "Teal",
          "Teal",
          "Beige",
          "Violet",
          "Beige",
          "Purple",
          "Charcoal",
          "Pink",
          "Blue",
          "Lavender",
          "Charcoal",
          "Turquoise",
          "Red",
          "Yellow",
          "Orange",
          "Blue",
          "Gold",
          "Gold",
          "Cyan",
          "Olive",
          "Teal",
          "Maroon",
          "Green",
          "Charcoal",
          "Cyan",
          "Charcoal",
          "Charcoal",
          "Lavender",
          "Turquoise",
          "Green",
          "Silver",
          "Blue",
          "Charcoal",
          "Pink",
          "Pink",
          "Magenta",
          "Gray",
          "Gray",
          "Orange",
          "Black",
          "Lavender",
          "Red",
          "Silver",
          "Cyan",
          "Gold",
          "Yellow",
          "Purple",
          "Brown",
          "Turquoise",
          "Gold",
          "Olive",
          "Purple",
          "Lavender",
          "Gray",
          "Red",
          "Purple",
          "Olive",
          "Lavender",
          "Gray",
          "Red",
          "Peach",
          "Gray",
          "Violet",
          "Beige",
          "Blue",
          "Magenta",
          "Cyan",
          "Red",
          "Cyan",
          "Turquoise",
          "Silver",
          "Pink",
          "Black",
          "Green",
          "Yellow",
          "Purple",
          "Purple",
          "Blue",
          "Maroon",
          "Orange",
          "Green",
          "Gold",
          "Silver",
          "Cyan",
          "Silver",
          "Beige",
          "Teal",
          "Green",
          "Black",
          "Yellow",
          "White",
          "Green",
          "Silver",
          "Blue",
          "Magenta",
          "Yellow",
          "White",
          "Pink",
          "Magenta",
          "Teal",
          "Indigo",
          "Maroon",
          "Black",
          "Cyan",
          "Cyan",
          "Gray",
          "Violet",
          "Blue",
          "Charcoal",
          "Olive",
          "Olive",
          "Turquoise",
          "Cyan",
          "Red",
          "Cyan",
          "Turquoise",
          "Lavender",
          "Cyan",
          "Violet",
          "Beige",
          "Cyan",
          "Indigo",
          "Olive",
          "Green",
          "Green",
          "Beige",
          "Black",
          "Brown",
          "Silver",
          "Gray",
          "Pink",
          "Maroon",
          "Cyan",
          "Gold",
          "Teal",
          "Beige",
          "Olive",
          "Gray",
          "Black",
          "Turquoise",
          "Brown",
          "Magenta",
          "Silver",
          "Red",
          "Indigo",
          "Green",
          "Gray",
          "Peach",
          "Charcoal",
          "Orange",
          "Beige",
          "Yellow",
          "White",
          "Gray",
          "Peach",
          "Violet",
          "Magenta",
          "Maroon",
          "Cyan",
          "White",
          "Brown",
          "Red",
          "Orange",
          "White",
          "Green",
          "Black",
          "Gold",
          "Lavender",
          "Turquoise",
          "Pink",
          "Silver",
          "Gray",
          "Indigo",
          "Teal",
          "Green",
          "Violet",
          "Cyan",
          "Blue",
          "Orange",
          "Charcoal",
          "Beige",
          "Black",
          "Lavender",
          "Lavender",
          "Turquoise",
          "Purple",
          "Olive",
          "Turquoise",
          "Teal",
          "Lavender",
          "Purple",
          "Blue",
          "Teal",
          "Lavender",
          "Silver",
          "Olive",
          "Brown",
          "Yellow",
          "Brown",
          "Cyan",
          "Magenta",
          "Magenta",
          "Orange",
          "Maroon",
          "Green",
          "Teal",
          "Black",
          "Magenta",
          "Olive",
          "Yellow",
          "Purple",
          "Beige",
          "Indigo",
          "Pink",
          "Blue",
          "Cyan",
          "Orange",
          "Black",
          "Maroon",
          "Violet",
          "Beige",
          "Gray",
          "Gray",
          "Brown",
          "Indigo",
          "Violet",
          "Blue",
          "Red",
          "Peach",
          "Olive",
          "White",
          "Magenta",
          "Beige",
          "Gold",
          "Purple",
          "White",
          "Indigo",
          "Charcoal",
          "Pink",
          "Silver",
          "Blue",
          "Blue",
          "Brown",
          "Cyan",
          "Teal",
          "Purple",
          "Turquoise",
          "Olive",
          "White",
          "Turquoise",
          "Silver",
          "Violet",
          "Lavender",
          "Magenta",
          "Indigo",
          "Black",
          "Peach",
          "Beige",
          "Black",
          "Turquoise",
          "Peach",
          "Gold",
          "Silver",
          "Peach",
          "Charcoal",
          "Beige",
          "Olive",
          "Violet",
          "Peach",
          "Teal",
          "Violet",
          "Cyan",
          "Olive",
          "Pink",
          "Purple",
          "Violet",
          "Peach",
          "Charcoal",
          "Lavender",
          "Purple",
          "Indigo",
          "Magenta",
          "Peach",
          "Charcoal",
          "Purple",
          "Orange",
          "Lavender",
          "Beige",
          "Maroon",
          "Charcoal",
          "White",
          "Lavender",
          "Black",
          "Teal",
          "Magenta",
          "Brown",
          "Peach",
          "Cyan",
          "Pink",
          "Purple",
          "Purple",
          "White",
          "Silver",
          "Green",
          "Teal",
          "Indigo",
          "Pink",
          "Indigo",
          "Red",
          "Violet",
          "Cyan",
          "Red",
          "Gray",
          "Gold",
          "Pink",
          "Cyan",
          "Red",
          "Gold",
          "Charcoal",
          "Orange",
          "Blue",
          "Blue",
          "Orange",
          "Blue",
          "White",
          "Green",
          "Silver",
          "Lavender",
          "Beige",
          "Violet",
          "Gray",
          "Red",
          "Lavender",
          "Peach",
          "Indigo",
          "Black",
          "Beige",
          "Red",
          "Black",
          "Teal",
          "Blue",
          "Beige",
          "Teal",
          "Maroon",
          "Yellow",
          "Indigo",
          "Magenta",
          "Beige",
          "Maroon",
          "Magenta",
          "Teal",
          "Orange",
          "Charcoal",
          "Turquoise",
          "Pink",
          "Teal",
          "White",
          "Maroon",
          "Violet",
          "Brown",
          "Indigo",
          "Black",
          "Black",
          "Olive",
          "Orange",
          "Pink",
          "Olive",
          "Cyan",
          "White",
          "Red",
          "Blue",
          "Olive",
          "Green",
          "Yellow",
          "Black",
          "Blue",
          "Pink",
          "Lavender",
          "Cyan",
          "Cyan",
          "Gold",
          "Green",
          "Red",
          "Magenta",
          "Red",
          "Yellow",
          "Turquoise",
          "Cyan",
          "Yellow",
          "Yellow",
          "Maroon",
          "Brown",
          "Gold",
          "Charcoal",
          "Beige",
          "Indigo",
          "Red",
          "White",
          "Charcoal",
          "Violet",
          "Magenta",
          "White",
          "Pink",
          "Lavender",
          "Pink",
          "Silver",
          "Violet",
          "Charcoal",
          "Charcoal",
          "Red",
          "Peach",
          "Purple",
          "Orange",
          "Magenta",
          "Red",
          "Black",
          "Peach",
          "Olive",
          "Gold",
          "Gold",
          "Turquoise",
          "Green",
          "Maroon",
          "Brown",
          "Brown",
          "Blue",
          "Lavender",
          "Peach",
          "Gray",
          "Charcoal",
          "Lavender",
          "Green",
          "Gray",
          "Orange",
          "Silver",
          "Olive",
          "Turquoise",
          "Turquoise",
          "Green",
          "Violet",
          "Charcoal",
          "White",
          "Olive",
          "Violet",
          "Violet",
          "Black",
          "Charcoal",
          "Yellow",
          "Blue",
          "Charcoal",
          "Red",
          "Indigo",
          "Beige",
          "Maroon",
          "Yellow",
          "Silver",
          "Olive",
          "Teal",
          "Silver",
          "Indigo",
          "Teal",
          "Charcoal",
          "Orange",
          "Gold",
          "Silver",
          "Orange",
          "Peach",
          "Brown",
          "Black",
          "Red",
          "Lavender",
          "Brown",
          "Maroon",
          "Violet",
          "Lavender",
          "Magenta",
          "Green",
          "Lavender",
          "Green",
          "Maroon",
          "Magenta",
          "Teal",
          "Orange",
          "Violet",
          "Yellow",
          "Orange",
          "Gold",
          "Indigo",
          "Turquoise",
          "Orange",
          "Indigo",
          "Charcoal",
          "Lavender",
          "Gold",
          "Lavender",
          "White",
          "Lavender",
          "Charcoal",
          "Silver",
          "Yellow",
          "Olive",
          "Peach",
          "Yellow",
          "Yellow",
          "Indigo",
          "Violet",
          "White",
          "White",
          "Cyan",
          "Purple",
          "Black",
          "Orange",
          "Maroon",
          "Orange",
          "Teal",
          "Gray",
          "Blue",
          "Cyan",
          "Red",
          "Pink",
          "Cyan",
          "Black",
          "Beige",
          "Gray",
          "Red",
          "Yellow",
          "Magenta",
          "Magenta",
          "Black",
          "Orange",
          "Green",
          "Peach",
          "Charcoal",
          "Gray",
          "Turquoise",
          "Red",
          "Brown",
          "Pink",
          "Olive",
          "Lavender",
          "Purple",
          "Beige",
          "Green",
          "Brown",
          "Beige",
          "Beige",
          "Indigo",
          "Silver",
          "Gold",
          "Lavender",
          "Orange",
          "Maroon",
          "White",
          "Yellow",
          "Yellow",
          "Magenta",
          "Turquoise",
          "Lavender",
          "Magenta",
          "Cyan",
          "Olive",
          "Red",
          "Blue",
          "White",
          "Peach",
          "Charcoal",
          "Peach",
          "Turquoise",
          "Charcoal",
          "Yellow",
          "Blue",
          "Purple",
          "Green",
          "Charcoal",
          "Indigo",
          "Black",
          "Blue",
          "Silver",
          "Brown",
          "Violet",
          "Orange",
          "Gray",
          "Gold",
          "Charcoal",
          "Black",
          "Indigo",
          "White",
          "Yellow",
          "Orange",
          "Green",
          "Gold",
          "Orange",
          "Cyan",
          "Black",
          "Yellow",
          "Maroon",
          "Black",
          "Gray",
          "Orange",
          "Cyan",
          "Magenta",
          "Pink",
          "Turquoise",
          "Violet",
          "Teal",
          "Pink",
          "Gold",
          "Red",
          "Beige",
          "Black",
          "Lavender",
          "Teal",
          "Maroon",
          "Blue",
          "Teal",
          "Maroon",
          "Silver",
          "Olive",
          "Gray",
          "Peach",
          "Yellow",
          "Violet",
          "Red",
          "Charcoal",
          "Beige",
          "Peach",
          "Violet",
          "Green",
          "Olive",
          "Silver",
          "Purple",
          "Silver",
          "Gray",
          "Turquoise",
          "Violet",
          "Pink",
          "Teal",
          "Magenta",
          "Silver",
          "Blue",
          "Black",
          "Gold",
          "Gray",
          "Magenta",
          "Yellow",
          "Teal",
          "Red",
          "Yellow",
          "Black",
          "Pink",
          "Magenta",
          "Olive",
          "Black",
          "Maroon",
          "Gold",
          "Gray",
          "Brown",
          "Purple",
          "Magenta",
          "Teal",
          "Olive",
          "Maroon",
          "Silver",
          "Black",
          "Maroon",
          "Teal",
          "Teal",
          "Beige",
          "Maroon",
          "Beige",
          "White",
          "Gray",
          "Violet",
          "Silver",
          "Red",
          "Brown",
          "Turquoise",
          "Indigo",
          "Violet",
          "Yellow",
          "Cyan",
          "Brown",
          "White",
          "Yellow",
          "White",
          "Pink",
          "Indigo",
          "White",
          "Red",
          "Red",
          "Lavender",
          "Teal",
          "Violet",
          "Silver",
          "Gold",
          "Green",
          "Turquoise",
          "Indigo",
          "Black",
          "Charcoal",
          "Turquoise",
          "Red",
          "Indigo",
          "Maroon",
          "Indigo",
          "Maroon",
          "Black",
          "Purple",
          "Teal",
          "Silver",
          "Black",
          "Black",
          "Olive",
          "Purple",
          "Indigo",
          "Lavender",
          "Cyan",
          "Gold",
          "Magenta",
          "Teal",
          "Beige",
          "Teal",
          "Indigo",
          "Purple",
          "Teal",
          "Turquoise",
          "Peach",
          "Green",
          "Turquoise",
          "Yellow",
          "Orange",
          "Brown",
          "Silver",
          "White",
          "Indigo",
          "Magenta",
          "Turquoise",
          "White",
          "Olive",
          "Maroon",
          "Violet",
          "Cyan",
          "Teal",
          "Red",
          "Yellow",
          "Silver",
          "Charcoal",
          "Purple",
          "Beige",
          "Cyan",
          "Silver",
          "Pink",
          "Gold",
          "Cyan",
          "Black",
          "Charcoal",
          "Magenta",
          "Pink",
          "Maroon",
          "Teal",
          "Orange",
          "Yellow",
          "Red",
          "Charcoal",
          "Black",
          "White",
          "Lavender",
          "White",
          "Gray",
          "Cyan",
          "Brown",
          "Purple",
          "Yellow",
          "Indigo",
          "Black",
          "Gray",
          "Indigo",
          "Green",
          "Peach",
          "Purple",
          "Beige",
          "Charcoal",
          "Gray",
          "Brown",
          "Cyan",
          "White",
          "Beige",
          "Orange",
          "Olive",
          "Teal",
          "Silver",
          "Gold",
          "Violet",
          "White",
          "Peach",
          "Orange",
          "Violet",
          "Green",
          "Peach",
          "Black",
          "Blue",
          "Magenta",
          "Violet",
          "Beige",
          "Pink",
          "Beige",
          "Green",
          "Silver",
          "Purple",
          "Gray",
          "White",
          "Silver",
          "Blue",
          "Orange",
          "Silver",
          "Gray",
          "Gold",
          "Brown",
          "Turquoise",
          "Pink",
          "Black",
          "Yellow",
          "Beige",
          "Olive",
          "Gold",
          "Purple",
          "Pink",
          "Blue",
          "Brown",
          "Charcoal",
          "Maroon",
          "Cyan",
          "Olive",
          "Gold",
          "Violet",
          "Peach",
          "Beige",
          "Cyan",
          "Silver",
          "Magenta",
          "Black",
          "Olive",
          "Green",
          "Yellow",
          "Lavender",
          "Indigo",
          "Pink",
          "Red",
          "Magenta",
          "Peach",
          "Turquoise",
          "Black",
          "Blue",
          "Beige",
          "Olive",
          "Turquoise",
          "Yellow",
          "Turquoise",
          "Lavender",
          "Turquoise",
          "Teal",
          "Black",
          "Blue",
          "Yellow",
          "Black",
          "Lavender",
          "Cyan",
          "Brown",
          "Maroon",
          "Cyan",
          "Pink",
          "Orange",
          "Lavender",
          "Beige",
          "Pink",
          "Charcoal",
          "Gray",
          "Cyan",
          "Orange",
          "Pink",
          "White",
          "Beige",
          "Magenta",
          "Violet",
          "Gold",
          "Teal",
          "Indigo",
          "Olive",
          "Violet",
          "Black",
          "Brown",
          "Silver",
          "Gray",
          "Charcoal",
          "Black",
          "Brown",
          "Purple",
          "Purple",
          "Gray",
          "Green",
          "Silver",
          "Charcoal",
          "Teal",
          "White",
          "Brown",
          "Teal",
          "Red",
          "Brown",
          "Yellow",
          "Teal",
          "Pink",
          "White",
          "Silver",
          "Blue",
          "Black",
          "Beige",
          "Charcoal",
          "Cyan",
          "Yellow",
          "Silver",
          "Green",
          "Peach",
          "Green",
          "Brown",
          "Lavender",
          "Charcoal",
          "Orange",
          "Cyan",
          "Lavender",
          "Indigo",
          "Brown",
          "Pink",
          "Turquoise",
          "Gold",
          "Blue",
          "Lavender",
          "Violet",
          "Cyan",
          "Purple",
          "Red",
          "Charcoal",
          "Gray",
          "Pink",
          "Lavender",
          "Lavender",
          "Yellow",
          "Peach",
          "Brown",
          "Gold",
          "Pink",
          "Peach",
          "Violet",
          "Purple",
          "Peach",
          "White",
          "Indigo",
          "Violet",
          "Brown",
          "Maroon",
          "Magenta",
          "Charcoal",
          "Indigo",
          "Turquoise",
          "Turquoise",
          "Gray",
          "Peach",
          "Gold",
          "Green",
          "Gold",
          "Lavender",
          "Blue",
          "Magenta",
          "Blue",
          "Blue",
          "Olive",
          "White",
          "White",
          "Purple",
          "White",
          "White",
          "Peach",
          "Gold",
          "Teal",
          "Cyan",
          "Pink",
          "Magenta",
          "Pink",
          "Turquoise",
          "Pink",
          "Gray",
          "White",
          "Blue",
          "Cyan",
          "Blue",
          "Yellow",
          "Charcoal",
          "Lavender",
          "Teal",
          "Beige",
          "Blue",
          "Purple",
          "Gold",
          "Blue",
          "Black",
          "Charcoal",
          "Purple",
          "Orange",
          "Yellow",
          "Cyan",
          "Yellow",
          "Maroon",
          "Black",
          "Lavender",
          "Violet",
          "Olive",
          "Teal",
          "Teal",
          "Beige",
          "Maroon",
          "Peach",
          "Beige",
          "Silver",
          "Peach",
          "Turquoise",
          "Orange",
          "Cyan",
          "Silver",
          "Gold",
          "Brown",
          "Silver",
          "Beige",
          "Violet",
          "Violet",
          "Lavender",
          "Red",
          "Purple",
          "Brown",
          "Gray",
          "Pink",
          "Magenta",
          "Charcoal",
          "Yellow",
          "Red",
          "Blue",
          "Cyan",
          "Pink",
          "Maroon",
          "Beige",
          "Gold",
          "Turquoise",
          "Peach",
          "Lavender",
          "Gray",
          "Blue",
          "Red",
          "Purple",
          "Indigo",
          "Gold",
          "Teal",
          "Magenta",
          "Maroon",
          "Blue",
          "Beige",
          "Olive",
          "Gold",
          "Silver",
          "Teal",
          "Green",
          "Orange",
          "Charcoal",
          "Black",
          "Yellow",
          "Gray",
          "Charcoal",
          "Peach",
          "Green",
          "Magenta",
          "Beige",
          "Black",
          "Purple",
          "Olive",
          "Purple",
          "Green",
          "Peach",
          "Blue",
          "Gray",
          "Black",
          "Silver",
          "Pink",
          "Lavender",
          "Brown",
          "Turquoise",
          "Olive",
          "White",
          "Violet",
          "Gold",
          "Violet",
          "Teal",
          "Olive",
          "Blue",
          "Magenta",
          "Gray",
          "Peach",
          "Cyan",
          "Violet",
          "Gold",
          "Gold",
          "White",
          "Gray",
          "Brown",
          "Gray",
          "Blue",
          "Gold",
          "Yellow",
          "Green",
          "Pink",
          "Pink",
          "Pink",
          "Cyan",
          "Gray",
          "White",
          "Red",
          "Black",
          "Silver",
          "Pink",
          "Cyan",
          "White",
          "Purple",
          "Yellow",
          "Blue",
          "Cyan",
          "Indigo",
          "Indigo",
          "Silver",
          "Red",
          "Peach",
          "Turquoise",
          "Pink",
          "Teal",
          "Magenta",
          "Blue",
          "Green",
          "Violet",
          "Turquoise",
          "Pink",
          "Black",
          "Gold",
          "Green",
          "White",
          "Gold",
          "Charcoal",
          "White",
          "Brown",
          "Gold",
          "Purple",
          "Brown",
          "Teal",
          "Indigo",
          "Purple",
          "Orange",
          "Indigo",
          "Lavender",
          "Purple",
          "Red",
          "Blue",
          "Blue",
          "Cyan",
          "Pink",
          "Silver",
          "Gray",
          "Indigo",
          "Maroon",
          "Beige",
          "Green",
          "Peach",
          "Black",
          "Pink",
          "Violet",
          "Green",
          "Gold",
          "Red",
          "Beige",
          "Green",
          "Black",
          "Teal",
          "Silver",
          "Turquoise",
          "Orange",
          "Gold",
          "Purple",
          "Pink",
          "Green",
          "Charcoal",
          "Maroon",
          "Olive",
          "Peach",
          "Yellow",
          "Lavender",
          "Green",
          "Orange",
          "Olive",
          "Gray",
          "Lavender",
          "Red",
          "Charcoal",
          "Orange",
          "Red",
          "Maroon",
          "Silver",
          "Pink",
          "Blue",
          "Teal",
          "Black",
          "Gray",
          "Purple",
          "Gold",
          "Silver",
          "Blue",
          "Yellow",
          "Brown",
          "Beige",
          "Blue",
          "Magenta",
          "Silver",
          "Cyan",
          "Green",
          "Blue",
          "Olive",
          "Beige",
          "Black",
          "Indigo",
          "Red",
          "Yellow",
          "Beige",
          "Green",
          "White",
          "Turquoise",
          "Indigo",
          "Orange",
          "Blue",
          "Violet",
          "Gray",
          "Cyan",
          "Yellow",
          "Orange",
          "Brown",
          "Teal",
          "Beige",
          "Blue",
          "Orange",
          "Gold",
          "Teal",
          "Beige",
          "Silver",
          "Maroon",
          "Indigo",
          "Gray",
          "Blue",
          "Cyan",
          "White",
          "Green",
          "Silver",
          "Blue",
          "Brown",
          "Red",
          "Gold",
          "Silver",
          "Gray",
          "Black",
          "Beige",
          "Peach",
          "Cyan",
          "Pink",
          "Lavender",
          "Brown",
          "Magenta",
          "Violet",
          "Teal",
          "Brown",
          "Olive",
          "Indigo",
          "Red",
          "Olive",
          "Teal",
          "Cyan",
          "Teal",
          "Beige",
          "Magenta",
          "Indigo",
          "Cyan",
          "Orange",
          "Violet",
          "Red",
          "Magenta",
          "Olive",
          "Maroon",
          "Yellow",
          "Red",
          "Purple",
          "Teal",
          "Red",
          "Brown",
          "Peach",
          "Maroon",
          "Red",
          "Orange",
          "White",
          "White",
          "Charcoal",
          "Turquoise",
          "Orange",
          "Orange",
          "Brown",
          "Magenta",
          "Violet",
          "Violet",
          "Yellow",
          "Maroon",
          "Turquoise",
          "Olive",
          "Peach",
          "Charcoal",
          "Peach",
          "Black",
          "Gray",
          "Olive",
          "Turquoise",
          "Purple",
          "Green",
          "Beige",
          "Brown",
          "Turquoise",
          "Yellow",
          "Lavender",
          "Cyan",
          "Olive",
          "Silver",
          "Red",
          "Green",
          "Gold",
          "Lavender",
          "Yellow",
          "Black",
          "Maroon",
          "Maroon",
          "Gold",
          "Violet",
          "Teal",
          "Violet",
          "Brown",
          "Brown",
          "Maroon",
          "Maroon",
          "Yellow",
          "Turquoise",
          "Silver",
          "Brown",
          "Gray",
          "Indigo",
          "Turquoise",
          "Maroon",
          "Charcoal",
          "Peach",
          "Red",
          "Indigo",
          "Lavender",
          "Red",
          "Green",
          "Gray",
          "Violet",
          "Beige",
          "Orange",
          "Purple",
          "Brown",
          "Maroon",
          "Gold",
          "Indigo",
          "Silver",
          "Red",
          "Magenta",
          "Purple",
          "Beige",
          "White",
          "Teal",
          "Gray",
          "Charcoal",
          "Olive",
          "Blue",
          "Gray",
          "Green",
          "Silver",
          "Teal",
          "Beige",
          "Lavender",
          "Gray",
          "Yellow",
          "Gray",
          "Yellow",
          "Black",
          "Beige",
          "Indigo",
          "Green",
          "Purple",
          "Orange",
          "Teal",
          "Gold",
          "Gray",
          "Cyan",
          "Teal",
          "Violet",
          "Indigo",
          "Pink",
          "Gold",
          "Maroon",
          "Brown",
          "Gold",
          "Teal",
          "Turquoise",
          "Olive",
          "Cyan",
          "Beige",
          "Blue",
          "Gold",
          "Green",
          "Green",
          "Turquoise",
          "Yellow",
          "Yellow",
          "Blue",
          "Charcoal",
          "Yellow",
          "Purple",
          "Green",
          "Charcoal",
          "Silver",
          "Turquoise",
          "Gray",
          "Red",
          "Beige",
          "Maroon",
          "Indigo",
          "Red",
          "Maroon",
          "Red",
          "Black",
          "Black",
          "Pink",
          "Blue",
          "Green",
          "Orange",
          "Orange",
          "Magenta",
          "Indigo",
          "Beige",
          "Green",
          "Red",
          "Beige",
          "Green",
          "Orange",
          "Cyan",
          "Violet",
          "Lavender",
          "Turquoise",
          "Pink",
          "Beige",
          "Silver",
          "Gold",
          "Silver",
          "Green",
          "Teal",
          "Gold",
          "Cyan",
          "Gold",
          "Violet",
          "Black",
          "Brown",
          "Indigo",
          "Yellow",
          "Purple",
          "White",
          "Turquoise",
          "Olive",
          "Beige",
          "Lavender",
          "White",
          "Brown",
          "Charcoal",
          "Maroon",
          "Red",
          "Maroon",
          "Teal",
          "Orange",
          "Olive",
          "Olive",
          "Beige",
          "Green",
          "Black",
          "Green",
          "Violet",
          "Silver",
          "Maroon",
          "Cyan",
          "Teal",
          "Olive",
          "Red",
          "Lavender",
          "Orange",
          "Brown",
          "Gray",
          "Orange",
          "Orange",
          "Turquoise",
          "Cyan",
          "Yellow",
          "White",
          "Blue",
          "Purple",
          "Gray",
          "Cyan",
          "Pink",
          "Gold",
          "Silver",
          "Gray",
          "Brown",
          "Pink",
          "Maroon",
          "Peach",
          "Brown",
          "Green",
          "Lavender",
          "Cyan",
          "Black",
          "Charcoal",
          "Silver",
          "Gray",
          "Peach",
          "Peach",
          "Cyan",
          "Magenta",
          "Teal",
          "Peach",
          "Black",
          "Teal",
          "Turquoise",
          "Gold",
          "Green",
          "Brown",
          "Blue",
          "Gold",
          "Peach",
          "Violet",
          "Yellow",
          "Black",
          "Silver",
          "Brown",
          "Peach",
          "Cyan",
          "Olive",
          "Black",
          "Orange",
          "Beige",
          "Peach",
          "Pink",
          "Brown",
          "Magenta",
          "Cyan",
          "Silver",
          "Indigo",
          "Beige",
          "Black",
          "Yellow",
          "Maroon",
          "Cyan",
          "Pink",
          "Violet",
          "Lavender",
          "Lavender",
          "Black",
          "Olive",
          "Indigo",
          "Blue",
          "Green",
          "Pink",
          "Peach",
          "Purple",
          "Peach",
          "Olive",
          "Olive",
          "Purple",
          "Violet",
          "Maroon",
          "White",
          "Olive",
          "Peach",
          "Blue",
          "Brown",
          "Black",
          "Yellow",
          "Magenta",
          "Cyan",
          "Maroon",
          "Red",
          "Black",
          "Violet",
          "Green",
          "Gold",
          "Brown",
          "Peach",
          "Peach",
          "Violet",
          "Violet",
          "Magenta",
          "Purple",
          "Purple",
          "Cyan",
          "Magenta",
          "Lavender",
          "Green",
          "Maroon",
          "Turquoise",
          "Violet",
          "Lavender",
          "Red",
          "Orange",
          "Indigo",
          "Teal",
          "Brown",
          "Pink",
          "Lavender",
          "Cyan",
          "Yellow",
          "Pink",
          "Gray",
          "Peach",
          "Red",
          "Olive",
          "Lavender",
          "Turquoise",
          "Turquoise",
          "Maroon",
          "Olive",
          "Maroon",
          "Cyan",
          "Peach",
          "Teal",
          "Green",
          "Beige",
          "Magenta",
          "Violet",
          "Charcoal",
          "Green",
          "Gray",
          "Magenta",
          "Silver",
          "Beige",
          "Peach",
          "Orange",
          "Yellow",
          "Violet",
          "Green",
          "Pink",
          "Violet",
          "Violet",
          "Pink",
          "Violet",
          "Turquoise",
          "Cyan",
          "Orange",
          "Cyan",
          "Indigo",
          "Black",
          "Purple",
          "Cyan",
          "Green",
          "Teal",
          "Teal",
          "Magenta",
          "Brown",
          "Orange",
          "Blue",
          "Magenta",
          "Magenta",
          "Magenta",
          "Olive",
          "Cyan",
          "Purple",
          "Purple",
          "Peach",
          "Gold",
          "Peach",
          "Magenta",
          "Cyan",
          "Violet",
          "Charcoal",
          "Blue",
          "Red",
          "Purple",
          "Gray",
          "Purple",
          "Silver",
          "Purple",
          "Charcoal",
          "Silver",
          "White",
          "Peach",
          "Red",
          "Olive",
          "Gray",
          "Beige",
          "Pink",
          "Red",
          "Peach",
          "Maroon",
          "Purple",
          "Maroon",
          "Gray",
          "Gray",
          "Magenta",
          "Cyan",
          "Silver",
          "Green",
          "Violet",
          "Magenta",
          "Yellow",
          "Gray",
          "Indigo",
          "Indigo",
          "Yellow",
          "Gold",
          "Green",
          "Charcoal",
          "Olive",
          "Black",
          "Silver",
          "Red",
          "Brown",
          "Silver",
          "Silver",
          "Black",
          "Purple",
          "Purple",
          "Turquoise",
          "Gold",
          "Indigo",
          "Lavender",
          "Blue",
          "Maroon",
          "Yellow",
          "Purple",
          "Peach",
          "Silver",
          "Turquoise",
          "Olive",
          "Peach",
          "Indigo",
          "Indigo",
          "Maroon",
          "Black",
          "Teal",
          "Olive",
          "Gold",
          "Gray",
          "Orange",
          "Black",
          "Teal",
          "Beige",
          "White",
          "Turquoise",
          "Teal",
          "Orange",
          "Black",
          "Violet",
          "Maroon",
          "Turquoise",
          "Gold",
          "Turquoise",
          "Maroon",
          "Purple",
          "Maroon",
          "Brown",
          "Indigo",
          "Lavender",
          "Beige",
          "Yellow",
          "Gold",
          "Indigo",
          "Cyan",
          "Silver",
          "Silver",
          "Silver",
          "Peach",
          "Pink",
          "Violet",
          "Black",
          "Purple",
          "Black",
          "Peach",
          "Magenta",
          "Magenta",
          "Black",
          "Pink",
          "Olive",
          "Olive",
          "Peach",
          "Silver",
          "Turquoise",
          "Olive",
          "Lavender",
          "Red",
          "Gray",
          "Magenta",
          "Maroon",
          "Cyan",
          "Cyan",
          "Lavender",
          "Pink",
          "Gray",
          "Yellow",
          "Pink",
          "Indigo",
          "Gray",
          "Yellow",
          "Olive",
          "Cyan",
          "Silver",
          "Silver",
          "Red",
          "Brown",
          "Orange",
          "Black",
          "Teal",
          "Yellow",
          "Gray",
          "Maroon",
          "Olive",
          "Charcoal",
          "Peach",
          "Maroon",
          "Olive",
          "Magenta",
          "Yellow",
          "Indigo",
          "Olive",
          "Maroon",
          "Indigo",
          "Gray",
          "Gray",
          "Black",
          "White",
          "Turquoise",
          "Orange",
          "Yellow",
          "Blue",
          "Violet",
          "Lavender",
          "Olive",
          "Orange",
          "White",
          "Red",
          "Magenta",
          "Violet",
          "Olive",
          "Silver",
          "Gray",
          "Olive",
          "Beige",
          "Turquoise",
          "Blue",
          "Pink",
          "Teal",
          "Cyan",
          "Purple",
          "Red",
          "Brown",
          "Magenta",
          "Olive",
          "Pink",
          "Black",
          "Beige",
          "Peach",
          "Peach",
          "Peach",
          "Teal",
          "Green",
          "Brown",
          "Brown",
          "Violet",
          "Blue",
          "Charcoal",
          "Pink",
          "Violet",
          "Teal",
          "Red",
          "Orange",
          "Magenta",
          "Yellow",
          "Yellow",
          "Pink",
          "Indigo",
          "Charcoal",
          "Blue",
          "Lavender",
          "Yellow",
          "Black",
          "Beige",
          "Silver",
          "Magenta",
          "Orange",
          "Teal",
          "Turquoise",
          "Cyan",
          "Pink",
          "Indigo",
          "Peach",
          "Beige",
          "Gold",
          "Indigo",
          "Violet",
          "Brown",
          "Purple",
          "Turquoise",
          "Violet",
          "Purple",
          "Charcoal",
          "Green",
          "White",
          "Purple",
          "Cyan",
          "Green",
          "Beige",
          "Lavender",
          "Blue",
          "Beige",
          "Blue",
          "Maroon",
          "Yellow",
          "Red",
          "Green",
          "Magenta",
          "Yellow",
          "Blue",
          "Charcoal",
          "Blue",
          "Cyan",
          "Silver",
          "Black",
          "Green",
          "Violet",
          "Pink",
          "Olive",
          "Orange",
          "Black",
          "Yellow",
          "Violet",
          "Silver",
          "Gold",
          "Magenta",
          "Red",
          "Green",
          "Red",
          "Pink",
          "Violet",
          "Indigo",
          "Red",
          "Violet",
          "Cyan",
          "Black",
          "Purple",
          "Charcoal",
          "Beige",
          "Teal",
          "Purple",
          "Blue",
          "Magenta",
          "Maroon",
          "Gold",
          "Black",
          "Black",
          "Yellow",
          "Turquoise",
          "Lavender",
          "Yellow",
          "Olive",
          "Brown",
          "Olive",
          "Purple",
          "Yellow",
          "Brown",
          "Magenta",
          "Lavender",
          "Teal",
          "Cyan",
          "Pink",
          "Magenta",
          "Teal",
          "Indigo",
          "Pink",
          "Charcoal",
          "Brown",
          "Blue",
          "Teal",
          "Pink",
          "Magenta",
          "Green",
          "White",
          "Indigo",
          "Lavender",
          "Black",
          "Charcoal",
          "Gray",
          "Gold",
          "Silver",
          "Teal",
          "Magenta",
          "Magenta",
          "Beige",
          "Maroon",
          "Indigo",
          "Maroon",
          "Teal",
          "Yellow",
          "Gold",
          "Teal",
          "Violet",
          "Yellow",
          "Maroon",
          "Silver",
          "Violet",
          "White",
          "Black",
          "White",
          "Blue",
          "Black",
          "Olive",
          "Teal",
          "Silver",
          "Pink",
          "Charcoal",
          "Silver",
          "Turquoise",
          "Turquoise",
          "Beige",
          "Cyan",
          "Gold",
          "Silver",
          "Purple",
          "Yellow",
          "Blue",
          "Blue",
          "Green",
          "Charcoal",
          "Violet",
          "Black",
          "Teal",
          "Orange",
          "Brown",
          "Green",
          "Silver",
          "Violet",
          "Peach",
          "Gold",
          "Violet",
          "Olive",
          "Orange",
          "Teal",
          "Gray",
          "Black",
          "Indigo",
          "Lavender",
          "Beige",
          "Indigo",
          "Blue",
          "Orange",
          "Yellow",
          "Cyan",
          "Yellow",
          "Cyan",
          "Green",
          "White",
          "Black",
          "Charcoal",
          "Brown",
          "Cyan",
          "Beige",
          "Magenta",
          "Indigo",
          "Maroon",
          "Gray",
          "Black",
          "Yellow",
          "White",
          "Orange",
          "Magenta",
          "Black",
          "Brown",
          "Orange",
          "Gray",
          "White",
          "White",
          "Violet",
          "Beige",
          "Beige",
          "Purple",
          "Brown",
          "Orange",
          "Cyan",
          "Charcoal",
          "Purple",
          "Peach",
          "Violet",
          "Peach",
          "Maroon",
          "Maroon",
          "Peach",
          "Silver",
          "Indigo",
          "Silver",
          "Olive",
          "Gray",
          "Black",
          "Maroon",
          "Olive",
          "Gold",
          "Pink",
          "Brown",
          "White",
          "Blue",
          "Orange",
          "Silver",
          "Gray",
          "Blue",
          "White",
          "Yellow",
          "Indigo",
          "Blue",
          "Peach",
          "Lavender",
          "Silver",
          "Gold",
          "Cyan",
          "Olive",
          "Teal",
          "Pink",
          "Orange",
          "Charcoal",
          "Red",
          "Teal",
          "Silver",
          "Black",
          "Pink",
          "Teal",
          "Teal",
          "Green",
          "Charcoal",
          "Indigo",
          "White",
          "Orange",
          "White",
          "Yellow",
          "Red",
          "Charcoal",
          "Lavender",
          "Charcoal",
          "Maroon",
          "Brown",
          "Lavender",
          "Brown",
          "Olive",
          "Lavender",
          "Gold",
          "Silver",
          "Violet",
          "Brown",
          "Teal",
          "Peach",
          "Maroon",
          "Lavender",
          "Lavender",
          "Purple",
          "Green",
          "Yellow",
          "Charcoal",
          "Blue",
          "Lavender",
          "Brown",
          "White",
          "Green",
          "Magenta",
          "Peach",
          "Charcoal",
          "Gold",
          "Purple",
          "Teal",
          "Green",
          "Orange",
          "Peach",
          "Gold",
          "Violet",
          "Charcoal",
          "Brown",
          "Blue",
          "Gold",
          "Orange",
          "Turquoise",
          "Peach",
          "Magenta",
          "Black",
          "White",
          "Violet",
          "Olive",
          "Red",
          "Green",
          "Gold",
          "Olive",
          "Brown",
          "Magenta",
          "Violet",
          "Beige",
          "Blue",
          "Orange",
          "Maroon",
          "Charcoal",
          "Olive",
          "Green",
          "Brown",
          "Cyan",
          "Beige",
          "Teal",
          "Gray",
          "Indigo",
          "Magenta",
          "Red",
          "Turquoise",
          "Peach",
          "White",
          "Maroon",
          "Beige",
          "Blue",
          "Red",
          "Blue",
          "Maroon",
          "Yellow",
          "Pink",
          "Maroon",
          "Purple",
          "Indigo",
          "Gray",
          "Lavender",
          "Charcoal",
          "Teal",
          "Blue",
          "Peach",
          "Orange",
          "Silver",
          "Red",
          "Gray",
          "Beige",
          "White",
          "Silver",
          "Cyan",
          "Maroon",
          "Purple",
          "Brown",
          "Green",
          "Peach",
          "Turquoise",
          "Olive",
          "Yellow",
          "Gray",
          "Purple",
          "Gray",
          "Lavender",
          "Indigo",
          "Green",
          "Green",
          "Olive",
          "Charcoal",
          "Gray",
          "Olive",
          "Blue",
          "Silver",
          "Magenta",
          "Black",
          "Pink",
          "Red",
          "Peach",
          "Lavender",
          "Lavender",
          "Beige",
          "Indigo",
          "Cyan",
          "Yellow",
          "Peach",
          "Yellow",
          "Orange",
          "Gray",
          "Yellow",
          "Gray",
          "Turquoise",
          "Gray",
          "Olive",
          "Peach",
          "Peach",
          "Magenta",
          "Purple",
          "Beige",
          "Purple",
          "Yellow",
          "Pink",
          "Purple",
          "Lavender",
          "Peach",
          "Orange",
          "Red",
          "Red",
          "Gold",
          "Brown",
          "Black",
          "Red",
          "Gray",
          "Pink",
          "Turquoise",
          "Charcoal",
          "Blue",
          "Turquoise",
          "Silver",
          "Lavender",
          "Gold",
          "Blue",
          "Orange",
          "White",
          "Charcoal",
          "Maroon",
          "Olive",
          "Teal",
          "Orange",
          "Maroon",
          "Turquoise",
          "Beige",
          "Beige",
          "Olive",
          "Turquoise",
          "Charcoal",
          "Green",
          "Green",
          "Green",
          "Gold",
          "Cyan",
          "Indigo",
          "Lavender",
          "Beige",
          "Purple",
          "Maroon",
          "Maroon",
          "Teal",
          "Gold",
          "Red",
          "Maroon",
          "Teal",
          "Peach",
          "Pink",
          "Black",
          "Indigo",
          "Green",
          "Teal",
          "Lavender",
          "Magenta",
          "Brown",
          "Beige",
          "Indigo",
          "Peach",
          "Magenta",
          "Turquoise",
          "Indigo",
          "Brown",
          "Yellow",
          "Magenta",
          "Olive",
          "Silver",
          "Teal",
          "White",
          "Blue",
          "Yellow",
          "Maroon",
          "Gray",
          "Indigo",
          "Pink",
          "Beige",
          "White",
          "Yellow",
          "Teal",
          "Olive",
          "Maroon",
          "White",
          "Lavender",
          "Black",
          "Green",
          "Olive",
          "Gray",
          "Teal",
          "Charcoal",
          "Violet",
          "Lavender",
          "Beige",
          "Black",
          "Black",
          "Purple",
          "Magenta",
          "Teal",
          "Teal",
          "Pink",
          "Teal",
          "Gold",
          "Brown",
          "Brown",
          "Magenta",
          "Black",
          "Teal",
          "Brown",
          "Magenta",
          "Indigo",
          "Violet",
          "Cyan",
          "Violet",
          "Black",
          "Charcoal",
          "White",
          "Gray",
          "Pink",
          "Cyan",
          "Blue",
          "Indigo",
          "Magenta",
          "Lavender",
          "Orange",
          "Cyan",
          "Green",
          "White",
          "Blue",
          "Black",
          "Red",
          "Red",
          "Gold",
          "Red",
          "Purple",
          "White",
          "Magenta",
          "Pink",
          "Black",
          "White",
          "Maroon",
          "Black",
          "Olive",
          "Gray",
          "Gold",
          "Magenta",
          "Lavender",
          "Green",
          "Violet",
          "Brown",
          "Teal",
          "Charcoal",
          "Charcoal",
          "Beige",
          "Turquoise",
          "Orange",
          "Cyan",
          "Orange",
          "Green",
          "Pink",
          "Blue",
          "Pink",
          "Blue",
          "Black",
          "Black",
          "Violet",
          "Gold",
          "Olive",
          "Pink",
          "Olive",
          "Indigo",
          "Silver",
          "Charcoal",
          "Orange",
          "Yellow",
          "Red",
          "Maroon",
          "Magenta",
          "Black",
          "Violet",
          "Gray",
          "Black",
          "Pink",
          "Silver",
          "Violet",
          "Beige",
          "Cyan",
          "Brown",
          "Blue",
          "White",
          "Cyan",
          "Maroon",
          "Olive",
          "Violet",
          "Green",
          "Magenta",
          "Turquoise",
          "Black",
          "Cyan",
          "Gray",
          "Red",
          "Olive",
          "Cyan",
          "Teal",
          "Teal",
          "Orange",
          "Peach",
          "Silver",
          "Pink",
          "Magenta",
          "Red",
          "Maroon",
          "Silver",
          "Gray",
          "Turquoise",
          "Peach",
          "Teal",
          "Red",
          "Blue",
          "Blue",
          "Indigo",
          "Charcoal",
          "Turquoise",
          "Maroon",
          "Purple",
          "Lavender",
          "Yellow",
          "Green",
          "Yellow",
          "Gold",
          "Turquoise",
          "Blue",
          "Turquoise",
          "Maroon",
          "Pink",
          "Maroon",
          "Olive",
          "Lavender",
          "Pink",
          "Cyan",
          "Maroon",
          "Red",
          "Silver",
          "Blue",
          "Gold",
          "Yellow",
          "Silver",
          "Black",
          "Yellow",
          "Pink",
          "Yellow",
          "Lavender",
          "Peach",
          "Black",
          "Olive",
          "Olive",
          "White",
          "Red",
          "Purple",
          "Purple",
          "Teal",
          "Teal",
          "Gray",
          "Magenta",
          "Black",
          "Maroon",
          "Gold",
          "Purple",
          "Blue",
          "Beige",
          "Indigo",
          "Purple",
          "Maroon",
          "Beige",
          "Brown",
          "Green",
          "Blue",
          "Magenta",
          "Turquoise",
          "Gray",
          "Purple",
          "Lavender",
          "Green",
          "Gray",
          "Yellow",
          "Orange",
          "Beige",
          "Peach",
          "Green",
          "Violet",
          "Gray",
          "Magenta",
          "Charcoal",
          "Violet",
          "Silver",
          "Green",
          "Magenta",
          "Purple",
          "Blue",
          "Yellow",
          "Brown",
          "Pink",
          "Silver",
          "Indigo",
          "Pink",
          "Lavender",
          "Orange",
          "Red",
          "Gray",
          "Violet",
          "Green",
          "Gold",
          "Maroon",
          "Olive",
          "Yellow",
          "Peach",
          "Gold",
          "Purple",
          "Charcoal",
          "Indigo",
          "Magenta",
          "Olive",
          "Blue",
          "White",
          "Cyan",
          "Cyan",
          "Orange",
          "Orange",
          "Teal",
          "Magenta",
          "Orange",
          "Peach",
          "Maroon",
          "Gold",
          "White",
          "Gray",
          "Brown",
          "Charcoal",
          "Beige",
          "Teal",
          "Black",
          "Violet",
          "Orange",
          "Turquoise",
          "Black",
          "Silver",
          "Gray",
          "Pink",
          "Red",
          "Lavender",
          "Indigo",
          "Silver",
          "Silver",
          "Green",
          "Pink",
          "Violet",
          "Red",
          "Olive",
          "Purple",
          "Gray",
          "Brown",
          "Orange",
          "Blue",
          "White",
          "Charcoal",
          "Gray",
          "Charcoal",
          "White",
          "Orange",
          "Black",
          "White",
          "Brown",
          "Pink",
          "Yellow",
          "Cyan",
          "Silver",
          "Olive",
          "Olive",
          "Charcoal",
          "Gray",
          "Maroon",
          "Black",
          "Violet",
          "Indigo",
          "Yellow",
          "Gray",
          "Red",
          "Peach",
          "Gray",
          "White",
          "Green",
          "Magenta",
          "Olive",
          "Olive",
          "Blue",
          "Charcoal",
          "Yellow",
          "Violet",
          "Magenta",
          "Red",
          "Cyan",
          "Orange",
          "Black",
          "Blue",
          "Charcoal",
          "Indigo",
          "Silver",
          "Brown",
          "Peach",
          "Magenta",
          "Beige",
          "Violet",
          "Black",
          "Cyan",
          "Green",
          "Brown",
          "Gray",
          "Orange",
          "Silver",
          "Purple",
          "Olive",
          "Teal",
          "White",
          "Black",
          "Maroon",
          "Cyan",
          "Violet",
          "Yellow",
          "Yellow",
          "Olive",
          "Olive",
          "Magenta",
          "Orange",
          "Beige",
          "Brown",
          "Indigo",
          "Gray",
          "Yellow",
          "Violet",
          "Magenta",
          "Blue",
          "Gray",
          "Gold",
          "Lavender",
          "Black",
          "Charcoal",
          "Violet",
          "Charcoal",
          "Maroon",
          "Purple",
          "Peach",
          "Olive",
          "Indigo",
          "Magenta",
          "Gold",
          "Orange",
          "Gold",
          "Purple",
          "Charcoal",
          "Cyan",
          "Cyan",
          "Green",
          "Silver",
          "Teal",
          "Magenta",
          "Maroon",
          "Gold",
          "Purple",
          "Lavender",
          "Maroon",
          "Magenta",
          "Turquoise",
          "Silver",
          "Purple",
          "Violet",
          "Peach",
          "Green",
          "Teal",
          "Silver",
          "Purple",
          "Lavender",
          "Lavender",
          "Peach",
          "Green",
          "Orange",
          "Pink",
          "Cyan",
          "Lavender",
          "Yellow",
          "Olive",
          "Brown",
          "Pink",
          "Cyan",
          "Maroon",
          "Magenta",
          "Violet",
          "Silver",
          "Maroon",
          "Gray",
          "White",
          "Brown",
          "Silver",
          "Yellow",
          "Magenta",
          "Blue",
          "Green",
          "Yellow",
          "Cyan",
          "Gold",
          "Magenta",
          "Gray",
          "Indigo",
          "White",
          "Indigo",
          "Green",
          "Turquoise",
          "Peach",
          "Olive",
          "Cyan",
          "Magenta",
          "Silver",
          "White",
          "Pink",
          "Pink",
          "Pink",
          "Blue",
          "White",
          "Teal",
          "Gray",
          "Beige",
          "Violet",
          "Blue",
          "Magenta",
          "Maroon",
          "Purple",
          "Charcoal",
          "Red",
          "Charcoal",
          "Lavender",
          "White",
          "Red",
          "Violet",
          "Orange",
          "Turquoise",
          "Violet",
          "Blue",
          "White",
          "Turquoise",
          "Pink",
          "Maroon",
          "Olive",
          "Charcoal",
          "Charcoal",
          "Indigo",
          "Teal",
          "Black",
          "Teal",
          "Green",
          "Gold",
          "Red",
          "Silver",
          "Yellow",
          "Peach",
          "Turquoise",
          "Peach",
          "Peach",
          "Orange",
          "Charcoal",
          "White",
          "Turquoise",
          "Red",
          "Peach",
          "Pink",
          "Yellow",
          "Beige",
          "Green",
          "Turquoise",
          "Orange",
          "Gold",
          "Red",
          "Teal",
          "Teal",
          "Lavender",
          "Pink",
          "Maroon",
          "Beige",
          "Orange",
          "Red",
          "Maroon",
          "Brown",
          "Olive",
          "Silver",
          "Purple",
          "Gray",
          "Cyan",
          "Gray",
          "Gold",
          "Cyan",
          "Olive",
          "Violet",
          "Yellow",
          "Gold",
          "Silver",
          "Pink",
          "Turquoise",
          "Turquoise",
          "Peach",
          "Teal",
          "Red",
          "Black",
          "Pink",
          "Peach",
          "Green",
          "Green",
          "Red",
          "Maroon",
          "Green",
          "Black",
          "Black",
          "Yellow",
          "Green",
          "Black",
          "Red",
          "Yellow",
          "Violet",
          "Cyan",
          "Pink",
          "Olive",
          "Maroon",
          "Cyan",
          "Lavender",
          "Yellow",
          "Pink",
          "Orange",
          "Orange",
          "Violet",
          "Lavender",
          "Yellow",
          "Pink",
          "Teal",
          "Magenta",
          "Beige",
          "Gray",
          "Turquoise",
          "Pink",
          "Violet",
          "Charcoal",
          "Lavender",
          "Gray",
          "Brown",
          "Violet",
          "Turquoise",
          "Peach",
          "Turquoise",
          "Violet",
          "Olive",
          "Green",
          "Teal",
          "Peach",
          "Pink",
          "Maroon",
          "Peach",
          "Maroon",
          "Pink",
          "Orange",
          "Orange",
          "Brown",
          "Silver",
          "Magenta",
          "Indigo",
          "Gold",
          "Purple",
          "Gold",
          "Gold",
          "Gold",
          "Olive",
          "Green",
          "Gray",
          "Red",
          "Charcoal",
          "Indigo",
          "Indigo",
          "Silver",
          "Purple",
          "Gray",
          "Magenta",
          "Silver",
          "Violet",
          "Green",
          "Green",
          "Peach",
          "Turquoise",
          "Pink",
          "Lavender",
          "Silver",
          "Cyan",
          "Green",
          "Orange",
          "Blue",
          "Magenta",
          "Cyan",
          "Indigo",
          "Pink",
          "Peach",
          "Lavender",
          "Black",
          "Lavender",
          "Brown",
          "Yellow",
          "Olive",
          "Blue",
          "Turquoise",
          "Yellow",
          "Turquoise",
          "Orange",
          "Blue",
          "Olive",
          "Beige",
          "Lavender",
          "Magenta",
          "Cyan",
          "Lavender",
          "Black",
          "Green",
          "Silver",
          "Beige",
          "Pink",
          "Cyan",
          "Olive",
          "Pink",
          "Maroon",
          "Red",
          "Silver",
          "Blue",
          "Purple",
          "Brown",
          "Purple",
          "Brown",
          "Charcoal",
          "Violet",
          "Yellow",
          "Green",
          "Peach",
          "Indigo",
          "White",
          "White",
          "Turquoise",
          "White",
          "Green",
          "Brown",
          "Beige"
         ],
         "xaxis": "x",
         "yaxis": "y"
        }
       ],
       "layout": {
        "barmode": "relative",
        "legend": {
         "tracegroupgap": 0
        },
        "margin": {
         "t": 60
        },
        "template": {
         "data": {
          "bar": [
           {
            "error_x": {
             "color": "#2a3f5f"
            },
            "error_y": {
             "color": "#2a3f5f"
            },
            "marker": {
             "line": {
              "color": "#E5ECF6",
              "width": 0.5
             },
             "pattern": {
              "fillmode": "overlay",
              "size": 10,
              "solidity": 0.2
             }
            },
            "type": "bar"
           }
          ],
          "barpolar": [
           {
            "marker": {
             "line": {
              "color": "#E5ECF6",
              "width": 0.5
             },
             "pattern": {
              "fillmode": "overlay",
              "size": 10,
              "solidity": 0.2
             }
            },
            "type": "barpolar"
           }
          ],
          "carpet": [
           {
            "aaxis": {
             "endlinecolor": "#2a3f5f",
             "gridcolor": "white",
             "linecolor": "white",
             "minorgridcolor": "white",
             "startlinecolor": "#2a3f5f"
            },
            "baxis": {
             "endlinecolor": "#2a3f5f",
             "gridcolor": "white",
             "linecolor": "white",
             "minorgridcolor": "white",
             "startlinecolor": "#2a3f5f"
            },
            "type": "carpet"
           }
          ],
          "choropleth": [
           {
            "colorbar": {
             "outlinewidth": 0,
             "ticks": ""
            },
            "type": "choropleth"
           }
          ],
          "contour": [
           {
            "colorbar": {
             "outlinewidth": 0,
             "ticks": ""
            },
            "colorscale": [
             [
              0,
              "#0d0887"
             ],
             [
              0.1111111111111111,
              "#46039f"
             ],
             [
              0.2222222222222222,
              "#7201a8"
             ],
             [
              0.3333333333333333,
              "#9c179e"
             ],
             [
              0.4444444444444444,
              "#bd3786"
             ],
             [
              0.5555555555555556,
              "#d8576b"
             ],
             [
              0.6666666666666666,
              "#ed7953"
             ],
             [
              0.7777777777777778,
              "#fb9f3a"
             ],
             [
              0.8888888888888888,
              "#fdca26"
             ],
             [
              1,
              "#f0f921"
             ]
            ],
            "type": "contour"
           }
          ],
          "contourcarpet": [
           {
            "colorbar": {
             "outlinewidth": 0,
             "ticks": ""
            },
            "type": "contourcarpet"
           }
          ],
          "heatmap": [
           {
            "colorbar": {
             "outlinewidth": 0,
             "ticks": ""
            },
            "colorscale": [
             [
              0,
              "#0d0887"
             ],
             [
              0.1111111111111111,
              "#46039f"
             ],
             [
              0.2222222222222222,
              "#7201a8"
             ],
             [
              0.3333333333333333,
              "#9c179e"
             ],
             [
              0.4444444444444444,
              "#bd3786"
             ],
             [
              0.5555555555555556,
              "#d8576b"
             ],
             [
              0.6666666666666666,
              "#ed7953"
             ],
             [
              0.7777777777777778,
              "#fb9f3a"
             ],
             [
              0.8888888888888888,
              "#fdca26"
             ],
             [
              1,
              "#f0f921"
             ]
            ],
            "type": "heatmap"
           }
          ],
          "heatmapgl": [
           {
            "colorbar": {
             "outlinewidth": 0,
             "ticks": ""
            },
            "colorscale": [
             [
              0,
              "#0d0887"
             ],
             [
              0.1111111111111111,
              "#46039f"
             ],
             [
              0.2222222222222222,
              "#7201a8"
             ],
             [
              0.3333333333333333,
              "#9c179e"
             ],
             [
              0.4444444444444444,
              "#bd3786"
             ],
             [
              0.5555555555555556,
              "#d8576b"
             ],
             [
              0.6666666666666666,
              "#ed7953"
             ],
             [
              0.7777777777777778,
              "#fb9f3a"
             ],
             [
              0.8888888888888888,
              "#fdca26"
             ],
             [
              1,
              "#f0f921"
             ]
            ],
            "type": "heatmapgl"
           }
          ],
          "histogram": [
           {
            "marker": {
             "pattern": {
              "fillmode": "overlay",
              "size": 10,
              "solidity": 0.2
             }
            },
            "type": "histogram"
           }
          ],
          "histogram2d": [
           {
            "colorbar": {
             "outlinewidth": 0,
             "ticks": ""
            },
            "colorscale": [
             [
              0,
              "#0d0887"
             ],
             [
              0.1111111111111111,
              "#46039f"
             ],
             [
              0.2222222222222222,
              "#7201a8"
             ],
             [
              0.3333333333333333,
              "#9c179e"
             ],
             [
              0.4444444444444444,
              "#bd3786"
             ],
             [
              0.5555555555555556,
              "#d8576b"
             ],
             [
              0.6666666666666666,
              "#ed7953"
             ],
             [
              0.7777777777777778,
              "#fb9f3a"
             ],
             [
              0.8888888888888888,
              "#fdca26"
             ],
             [
              1,
              "#f0f921"
             ]
            ],
            "type": "histogram2d"
           }
          ],
          "histogram2dcontour": [
           {
            "colorbar": {
             "outlinewidth": 0,
             "ticks": ""
            },
            "colorscale": [
             [
              0,
              "#0d0887"
             ],
             [
              0.1111111111111111,
              "#46039f"
             ],
             [
              0.2222222222222222,
              "#7201a8"
             ],
             [
              0.3333333333333333,
              "#9c179e"
             ],
             [
              0.4444444444444444,
              "#bd3786"
             ],
             [
              0.5555555555555556,
              "#d8576b"
             ],
             [
              0.6666666666666666,
              "#ed7953"
             ],
             [
              0.7777777777777778,
              "#fb9f3a"
             ],
             [
              0.8888888888888888,
              "#fdca26"
             ],
             [
              1,
              "#f0f921"
             ]
            ],
            "type": "histogram2dcontour"
           }
          ],
          "mesh3d": [
           {
            "colorbar": {
             "outlinewidth": 0,
             "ticks": ""
            },
            "type": "mesh3d"
           }
          ],
          "parcoords": [
           {
            "line": {
             "colorbar": {
              "outlinewidth": 0,
              "ticks": ""
             }
            },
            "type": "parcoords"
           }
          ],
          "pie": [
           {
            "automargin": true,
            "type": "pie"
           }
          ],
          "scatter": [
           {
            "fillpattern": {
             "fillmode": "overlay",
             "size": 10,
             "solidity": 0.2
            },
            "type": "scatter"
           }
          ],
          "scatter3d": [
           {
            "line": {
             "colorbar": {
              "outlinewidth": 0,
              "ticks": ""
             }
            },
            "marker": {
             "colorbar": {
              "outlinewidth": 0,
              "ticks": ""
             }
            },
            "type": "scatter3d"
           }
          ],
          "scattercarpet": [
           {
            "marker": {
             "colorbar": {
              "outlinewidth": 0,
              "ticks": ""
             }
            },
            "type": "scattercarpet"
           }
          ],
          "scattergeo": [
           {
            "marker": {
             "colorbar": {
              "outlinewidth": 0,
              "ticks": ""
             }
            },
            "type": "scattergeo"
           }
          ],
          "scattergl": [
           {
            "marker": {
             "colorbar": {
              "outlinewidth": 0,
              "ticks": ""
             }
            },
            "type": "scattergl"
           }
          ],
          "scattermapbox": [
           {
            "marker": {
             "colorbar": {
              "outlinewidth": 0,
              "ticks": ""
             }
            },
            "type": "scattermapbox"
           }
          ],
          "scatterpolar": [
           {
            "marker": {
             "colorbar": {
              "outlinewidth": 0,
              "ticks": ""
             }
            },
            "type": "scatterpolar"
           }
          ],
          "scatterpolargl": [
           {
            "marker": {
             "colorbar": {
              "outlinewidth": 0,
              "ticks": ""
             }
            },
            "type": "scatterpolargl"
           }
          ],
          "scatterternary": [
           {
            "marker": {
             "colorbar": {
              "outlinewidth": 0,
              "ticks": ""
             }
            },
            "type": "scatterternary"
           }
          ],
          "surface": [
           {
            "colorbar": {
             "outlinewidth": 0,
             "ticks": ""
            },
            "colorscale": [
             [
              0,
              "#0d0887"
             ],
             [
              0.1111111111111111,
              "#46039f"
             ],
             [
              0.2222222222222222,
              "#7201a8"
             ],
             [
              0.3333333333333333,
              "#9c179e"
             ],
             [
              0.4444444444444444,
              "#bd3786"
             ],
             [
              0.5555555555555556,
              "#d8576b"
             ],
             [
              0.6666666666666666,
              "#ed7953"
             ],
             [
              0.7777777777777778,
              "#fb9f3a"
             ],
             [
              0.8888888888888888,
              "#fdca26"
             ],
             [
              1,
              "#f0f921"
             ]
            ],
            "type": "surface"
           }
          ],
          "table": [
           {
            "cells": {
             "fill": {
              "color": "#EBF0F8"
             },
             "line": {
              "color": "white"
             }
            },
            "header": {
             "fill": {
              "color": "#C8D4E3"
             },
             "line": {
              "color": "white"
             }
            },
            "type": "table"
           }
          ]
         },
         "layout": {
          "annotationdefaults": {
           "arrowcolor": "#2a3f5f",
           "arrowhead": 0,
           "arrowwidth": 1
          },
          "autotypenumbers": "strict",
          "coloraxis": {
           "colorbar": {
            "outlinewidth": 0,
            "ticks": ""
           }
          },
          "colorscale": {
           "diverging": [
            [
             0,
             "#8e0152"
            ],
            [
             0.1,
             "#c51b7d"
            ],
            [
             0.2,
             "#de77ae"
            ],
            [
             0.3,
             "#f1b6da"
            ],
            [
             0.4,
             "#fde0ef"
            ],
            [
             0.5,
             "#f7f7f7"
            ],
            [
             0.6,
             "#e6f5d0"
            ],
            [
             0.7,
             "#b8e186"
            ],
            [
             0.8,
             "#7fbc41"
            ],
            [
             0.9,
             "#4d9221"
            ],
            [
             1,
             "#276419"
            ]
           ],
           "sequential": [
            [
             0,
             "#0d0887"
            ],
            [
             0.1111111111111111,
             "#46039f"
            ],
            [
             0.2222222222222222,
             "#7201a8"
            ],
            [
             0.3333333333333333,
             "#9c179e"
            ],
            [
             0.4444444444444444,
             "#bd3786"
            ],
            [
             0.5555555555555556,
             "#d8576b"
            ],
            [
             0.6666666666666666,
             "#ed7953"
            ],
            [
             0.7777777777777778,
             "#fb9f3a"
            ],
            [
             0.8888888888888888,
             "#fdca26"
            ],
            [
             1,
             "#f0f921"
            ]
           ],
           "sequentialminus": [
            [
             0,
             "#0d0887"
            ],
            [
             0.1111111111111111,
             "#46039f"
            ],
            [
             0.2222222222222222,
             "#7201a8"
            ],
            [
             0.3333333333333333,
             "#9c179e"
            ],
            [
             0.4444444444444444,
             "#bd3786"
            ],
            [
             0.5555555555555556,
             "#d8576b"
            ],
            [
             0.6666666666666666,
             "#ed7953"
            ],
            [
             0.7777777777777778,
             "#fb9f3a"
            ],
            [
             0.8888888888888888,
             "#fdca26"
            ],
            [
             1,
             "#f0f921"
            ]
           ]
          },
          "colorway": [
           "#636efa",
           "#EF553B",
           "#00cc96",
           "#ab63fa",
           "#FFA15A",
           "#19d3f3",
           "#FF6692",
           "#B6E880",
           "#FF97FF",
           "#FECB52"
          ],
          "font": {
           "color": "#2a3f5f"
          },
          "geo": {
           "bgcolor": "white",
           "lakecolor": "white",
           "landcolor": "#E5ECF6",
           "showlakes": true,
           "showland": true,
           "subunitcolor": "white"
          },
          "hoverlabel": {
           "align": "left"
          },
          "hovermode": "closest",
          "mapbox": {
           "style": "light"
          },
          "paper_bgcolor": "white",
          "plot_bgcolor": "#E5ECF6",
          "polar": {
           "angularaxis": {
            "gridcolor": "white",
            "linecolor": "white",
            "ticks": ""
           },
           "bgcolor": "#E5ECF6",
           "radialaxis": {
            "gridcolor": "white",
            "linecolor": "white",
            "ticks": ""
           }
          },
          "scene": {
           "xaxis": {
            "backgroundcolor": "#E5ECF6",
            "gridcolor": "white",
            "gridwidth": 2,
            "linecolor": "white",
            "showbackground": true,
            "ticks": "",
            "zerolinecolor": "white"
           },
           "yaxis": {
            "backgroundcolor": "#E5ECF6",
            "gridcolor": "white",
            "gridwidth": 2,
            "linecolor": "white",
            "showbackground": true,
            "ticks": "",
            "zerolinecolor": "white"
           },
           "zaxis": {
            "backgroundcolor": "#E5ECF6",
            "gridcolor": "white",
            "gridwidth": 2,
            "linecolor": "white",
            "showbackground": true,
            "ticks": "",
            "zerolinecolor": "white"
           }
          },
          "shapedefaults": {
           "line": {
            "color": "#2a3f5f"
           }
          },
          "ternary": {
           "aaxis": {
            "gridcolor": "white",
            "linecolor": "white",
            "ticks": ""
           },
           "baxis": {
            "gridcolor": "white",
            "linecolor": "white",
            "ticks": ""
           },
           "bgcolor": "#E5ECF6",
           "caxis": {
            "gridcolor": "white",
            "linecolor": "white",
            "ticks": ""
           }
          },
          "title": {
           "x": 0.05
          },
          "xaxis": {
           "automargin": true,
           "gridcolor": "white",
           "linecolor": "white",
           "ticks": "",
           "title": {
            "standoff": 15
           },
           "zerolinecolor": "white",
           "zerolinewidth": 2
          },
          "yaxis": {
           "automargin": true,
           "gridcolor": "white",
           "linecolor": "white",
           "ticks": "",
           "title": {
            "standoff": 15
           },
           "zerolinecolor": "white",
           "zerolinewidth": 2
          }
         }
        },
        "xaxis": {
         "anchor": "y",
         "domain": [
          0,
          1
         ],
         "title": {
          "text": "Color"
         }
        },
        "yaxis": {
         "anchor": "x",
         "domain": [
          0,
          1
         ],
         "title": {
          "text": "count"
         }
        }
       }
      }
     },
     "metadata": {},
     "output_type": "display_data"
    }
   ],
   "source": [
    "px.histogram(df , x = 'Color')"
   ]
  },
  {
   "cell_type": "code",
   "execution_count": 53,
   "metadata": {},
   "outputs": [
    {
     "data": {
      "text/plain": [
       "Color\n",
       "Olive     177\n",
       "Yellow    174\n",
       "Silver    173\n",
       "Teal      172\n",
       "Green     169\n",
       "Name: count, dtype: int64"
      ]
     },
     "execution_count": 53,
     "metadata": {},
     "output_type": "execute_result"
    }
   ],
   "source": [
    "df['Color'].value_counts().nlargest(5)"
   ]
  },
  {
   "cell_type": "markdown",
   "metadata": {},
   "source": [
    "## 15 What is the average number of previous purchases made by customers?"
   ]
  },
  {
   "cell_type": "code",
   "execution_count": 54,
   "metadata": {},
   "outputs": [
    {
     "data": {
      "text/plain": [
       "np.float64(25.35153846153846)"
      ]
     },
     "execution_count": 54,
     "metadata": {},
     "output_type": "execute_result"
    }
   ],
   "source": [
    "df['Previous Purchases'].mean()"
   ]
  },
  {
   "cell_type": "markdown",
   "metadata": {},
   "source": [
    "## 16 Are there any noticeable differences in purchase behavior between different locations?"
   ]
  },
  {
   "cell_type": "code",
   "execution_count": 55,
   "metadata": {},
   "outputs": [
    {
     "data": {
      "text/plain": [
       "Location\n",
       "Alaska            67.597222\n",
       "Pennsylvania      66.567568\n",
       "Arizona           66.553846\n",
       "West Virginia     63.876543\n",
       "Nevada            63.379310\n",
       "Washington        63.328767\n",
       "North Dakota      62.891566\n",
       "Virginia          62.883117\n",
       "Utah              62.577465\n",
       "Michigan          62.095890\n",
       "Tennessee         61.974026\n",
       "New Mexico        61.901235\n",
       "Rhode Island      61.444444\n",
       "Texas             61.194805\n",
       "Arkansas          61.113924\n",
       "Illinois          61.054348\n",
       "Mississippi       61.037500\n",
       "Massachusetts     60.888889\n",
       "Iowa              60.884058\n",
       "North Carolina    60.794872\n",
       "Wyoming           60.690141\n",
       "South Dakota      60.514286\n",
       "New York          60.425287\n",
       "Ohio              60.376623\n",
       "Montana           60.250000\n",
       "Idaho             60.075269\n",
       "Nebraska          59.448276\n",
       "New Hampshire     59.422535\n",
       "Alabama           59.112360\n",
       "California        59.000000\n",
       "Indiana           58.924051\n",
       "Georgia           58.797468\n",
       "South Carolina    58.407895\n",
       "Oklahoma          58.346667\n",
       "Missouri          57.913580\n",
       "Hawaii            57.723077\n",
       "Louisiana         57.714286\n",
       "Oregon            57.337838\n",
       "Vermont           57.176471\n",
       "Maine             56.987013\n",
       "New Jersey        56.746269\n",
       "Minnesota         56.556818\n",
       "Colorado          56.293333\n",
       "Wisconsin         55.946667\n",
       "Florida           55.852941\n",
       "Maryland          55.755814\n",
       "Kentucky          55.721519\n",
       "Delaware          55.325581\n",
       "Kansas            54.555556\n",
       "Connecticut       54.179487\n",
       "Name: Purchase Amount (USD), dtype: float64"
      ]
     },
     "execution_count": 55,
     "metadata": {},
     "output_type": "execute_result"
    }
   ],
   "source": [
    "df.groupby('Location')['Purchase Amount (USD)'].mean().sort_values(ascending = False)"
   ]
  },
  {
   "cell_type": "code",
   "execution_count": 56,
   "metadata": {},
   "outputs": [],
   "source": [
    "shop_group = df.groupby('Location')['Purchase Amount (USD)'].mean().reset_index()"
   ]
  },
  {
   "cell_type": "code",
   "execution_count": 57,
   "metadata": {},
   "outputs": [
    {
     "data": {
      "application/vnd.plotly.v1+json": {
       "config": {
        "plotlyServerURL": "https://plot.ly"
       },
       "data": [
        {
         "alignmentgroup": "True",
         "hovertemplate": "Location=%{x}<br>Purchase Amount (USD)=%{y}<extra></extra>",
         "legendgroup": "",
         "marker": {
          "color": "#636efa",
          "pattern": {
           "shape": ""
          }
         },
         "name": "",
         "offsetgroup": "",
         "orientation": "v",
         "showlegend": false,
         "textposition": "auto",
         "type": "bar",
         "x": [
          "Alabama",
          "Alaska",
          "Arizona",
          "Arkansas",
          "California",
          "Colorado",
          "Connecticut",
          "Delaware",
          "Florida",
          "Georgia",
          "Hawaii",
          "Idaho",
          "Illinois",
          "Indiana",
          "Iowa",
          "Kansas",
          "Kentucky",
          "Louisiana",
          "Maine",
          "Maryland",
          "Massachusetts",
          "Michigan",
          "Minnesota",
          "Mississippi",
          "Missouri",
          "Montana",
          "Nebraska",
          "Nevada",
          "New Hampshire",
          "New Jersey",
          "New Mexico",
          "New York",
          "North Carolina",
          "North Dakota",
          "Ohio",
          "Oklahoma",
          "Oregon",
          "Pennsylvania",
          "Rhode Island",
          "South Carolina",
          "South Dakota",
          "Tennessee",
          "Texas",
          "Utah",
          "Vermont",
          "Virginia",
          "Washington",
          "West Virginia",
          "Wisconsin",
          "Wyoming"
         ],
         "xaxis": "x",
         "y": [
          59.1123595505618,
          67.59722222222223,
          66.55384615384615,
          61.11392405063291,
          59,
          56.29333333333334,
          54.17948717948718,
          55.325581395348834,
          55.85294117647059,
          58.79746835443038,
          57.723076923076924,
          60.075268817204304,
          61.05434782608695,
          58.924050632911396,
          60.88405797101449,
          54.55555555555556,
          55.721518987341774,
          57.714285714285715,
          56.98701298701299,
          55.75581395348837,
          60.888888888888886,
          62.0958904109589,
          56.55681818181818,
          61.0375,
          57.91358024691358,
          60.25,
          59.44827586206897,
          63.37931034482759,
          59.42253521126761,
          56.74626865671642,
          61.901234567901234,
          60.42528735632184,
          60.794871794871796,
          62.89156626506024,
          60.37662337662338,
          58.346666666666664,
          57.33783783783784,
          66.56756756756756,
          61.44444444444444,
          58.4078947368421,
          60.51428571428571,
          61.97402597402598,
          61.1948051948052,
          62.57746478873239,
          57.1764705882353,
          62.883116883116884,
          63.32876712328767,
          63.876543209876544,
          55.946666666666665,
          60.690140845070424
         ],
         "yaxis": "y"
        }
       ],
       "layout": {
        "barmode": "relative",
        "legend": {
         "tracegroupgap": 0
        },
        "margin": {
         "t": 60
        },
        "template": {
         "data": {
          "bar": [
           {
            "error_x": {
             "color": "#2a3f5f"
            },
            "error_y": {
             "color": "#2a3f5f"
            },
            "marker": {
             "line": {
              "color": "#E5ECF6",
              "width": 0.5
             },
             "pattern": {
              "fillmode": "overlay",
              "size": 10,
              "solidity": 0.2
             }
            },
            "type": "bar"
           }
          ],
          "barpolar": [
           {
            "marker": {
             "line": {
              "color": "#E5ECF6",
              "width": 0.5
             },
             "pattern": {
              "fillmode": "overlay",
              "size": 10,
              "solidity": 0.2
             }
            },
            "type": "barpolar"
           }
          ],
          "carpet": [
           {
            "aaxis": {
             "endlinecolor": "#2a3f5f",
             "gridcolor": "white",
             "linecolor": "white",
             "minorgridcolor": "white",
             "startlinecolor": "#2a3f5f"
            },
            "baxis": {
             "endlinecolor": "#2a3f5f",
             "gridcolor": "white",
             "linecolor": "white",
             "minorgridcolor": "white",
             "startlinecolor": "#2a3f5f"
            },
            "type": "carpet"
           }
          ],
          "choropleth": [
           {
            "colorbar": {
             "outlinewidth": 0,
             "ticks": ""
            },
            "type": "choropleth"
           }
          ],
          "contour": [
           {
            "colorbar": {
             "outlinewidth": 0,
             "ticks": ""
            },
            "colorscale": [
             [
              0,
              "#0d0887"
             ],
             [
              0.1111111111111111,
              "#46039f"
             ],
             [
              0.2222222222222222,
              "#7201a8"
             ],
             [
              0.3333333333333333,
              "#9c179e"
             ],
             [
              0.4444444444444444,
              "#bd3786"
             ],
             [
              0.5555555555555556,
              "#d8576b"
             ],
             [
              0.6666666666666666,
              "#ed7953"
             ],
             [
              0.7777777777777778,
              "#fb9f3a"
             ],
             [
              0.8888888888888888,
              "#fdca26"
             ],
             [
              1,
              "#f0f921"
             ]
            ],
            "type": "contour"
           }
          ],
          "contourcarpet": [
           {
            "colorbar": {
             "outlinewidth": 0,
             "ticks": ""
            },
            "type": "contourcarpet"
           }
          ],
          "heatmap": [
           {
            "colorbar": {
             "outlinewidth": 0,
             "ticks": ""
            },
            "colorscale": [
             [
              0,
              "#0d0887"
             ],
             [
              0.1111111111111111,
              "#46039f"
             ],
             [
              0.2222222222222222,
              "#7201a8"
             ],
             [
              0.3333333333333333,
              "#9c179e"
             ],
             [
              0.4444444444444444,
              "#bd3786"
             ],
             [
              0.5555555555555556,
              "#d8576b"
             ],
             [
              0.6666666666666666,
              "#ed7953"
             ],
             [
              0.7777777777777778,
              "#fb9f3a"
             ],
             [
              0.8888888888888888,
              "#fdca26"
             ],
             [
              1,
              "#f0f921"
             ]
            ],
            "type": "heatmap"
           }
          ],
          "heatmapgl": [
           {
            "colorbar": {
             "outlinewidth": 0,
             "ticks": ""
            },
            "colorscale": [
             [
              0,
              "#0d0887"
             ],
             [
              0.1111111111111111,
              "#46039f"
             ],
             [
              0.2222222222222222,
              "#7201a8"
             ],
             [
              0.3333333333333333,
              "#9c179e"
             ],
             [
              0.4444444444444444,
              "#bd3786"
             ],
             [
              0.5555555555555556,
              "#d8576b"
             ],
             [
              0.6666666666666666,
              "#ed7953"
             ],
             [
              0.7777777777777778,
              "#fb9f3a"
             ],
             [
              0.8888888888888888,
              "#fdca26"
             ],
             [
              1,
              "#f0f921"
             ]
            ],
            "type": "heatmapgl"
           }
          ],
          "histogram": [
           {
            "marker": {
             "pattern": {
              "fillmode": "overlay",
              "size": 10,
              "solidity": 0.2
             }
            },
            "type": "histogram"
           }
          ],
          "histogram2d": [
           {
            "colorbar": {
             "outlinewidth": 0,
             "ticks": ""
            },
            "colorscale": [
             [
              0,
              "#0d0887"
             ],
             [
              0.1111111111111111,
              "#46039f"
             ],
             [
              0.2222222222222222,
              "#7201a8"
             ],
             [
              0.3333333333333333,
              "#9c179e"
             ],
             [
              0.4444444444444444,
              "#bd3786"
             ],
             [
              0.5555555555555556,
              "#d8576b"
             ],
             [
              0.6666666666666666,
              "#ed7953"
             ],
             [
              0.7777777777777778,
              "#fb9f3a"
             ],
             [
              0.8888888888888888,
              "#fdca26"
             ],
             [
              1,
              "#f0f921"
             ]
            ],
            "type": "histogram2d"
           }
          ],
          "histogram2dcontour": [
           {
            "colorbar": {
             "outlinewidth": 0,
             "ticks": ""
            },
            "colorscale": [
             [
              0,
              "#0d0887"
             ],
             [
              0.1111111111111111,
              "#46039f"
             ],
             [
              0.2222222222222222,
              "#7201a8"
             ],
             [
              0.3333333333333333,
              "#9c179e"
             ],
             [
              0.4444444444444444,
              "#bd3786"
             ],
             [
              0.5555555555555556,
              "#d8576b"
             ],
             [
              0.6666666666666666,
              "#ed7953"
             ],
             [
              0.7777777777777778,
              "#fb9f3a"
             ],
             [
              0.8888888888888888,
              "#fdca26"
             ],
             [
              1,
              "#f0f921"
             ]
            ],
            "type": "histogram2dcontour"
           }
          ],
          "mesh3d": [
           {
            "colorbar": {
             "outlinewidth": 0,
             "ticks": ""
            },
            "type": "mesh3d"
           }
          ],
          "parcoords": [
           {
            "line": {
             "colorbar": {
              "outlinewidth": 0,
              "ticks": ""
             }
            },
            "type": "parcoords"
           }
          ],
          "pie": [
           {
            "automargin": true,
            "type": "pie"
           }
          ],
          "scatter": [
           {
            "fillpattern": {
             "fillmode": "overlay",
             "size": 10,
             "solidity": 0.2
            },
            "type": "scatter"
           }
          ],
          "scatter3d": [
           {
            "line": {
             "colorbar": {
              "outlinewidth": 0,
              "ticks": ""
             }
            },
            "marker": {
             "colorbar": {
              "outlinewidth": 0,
              "ticks": ""
             }
            },
            "type": "scatter3d"
           }
          ],
          "scattercarpet": [
           {
            "marker": {
             "colorbar": {
              "outlinewidth": 0,
              "ticks": ""
             }
            },
            "type": "scattercarpet"
           }
          ],
          "scattergeo": [
           {
            "marker": {
             "colorbar": {
              "outlinewidth": 0,
              "ticks": ""
             }
            },
            "type": "scattergeo"
           }
          ],
          "scattergl": [
           {
            "marker": {
             "colorbar": {
              "outlinewidth": 0,
              "ticks": ""
             }
            },
            "type": "scattergl"
           }
          ],
          "scattermapbox": [
           {
            "marker": {
             "colorbar": {
              "outlinewidth": 0,
              "ticks": ""
             }
            },
            "type": "scattermapbox"
           }
          ],
          "scatterpolar": [
           {
            "marker": {
             "colorbar": {
              "outlinewidth": 0,
              "ticks": ""
             }
            },
            "type": "scatterpolar"
           }
          ],
          "scatterpolargl": [
           {
            "marker": {
             "colorbar": {
              "outlinewidth": 0,
              "ticks": ""
             }
            },
            "type": "scatterpolargl"
           }
          ],
          "scatterternary": [
           {
            "marker": {
             "colorbar": {
              "outlinewidth": 0,
              "ticks": ""
             }
            },
            "type": "scatterternary"
           }
          ],
          "surface": [
           {
            "colorbar": {
             "outlinewidth": 0,
             "ticks": ""
            },
            "colorscale": [
             [
              0,
              "#0d0887"
             ],
             [
              0.1111111111111111,
              "#46039f"
             ],
             [
              0.2222222222222222,
              "#7201a8"
             ],
             [
              0.3333333333333333,
              "#9c179e"
             ],
             [
              0.4444444444444444,
              "#bd3786"
             ],
             [
              0.5555555555555556,
              "#d8576b"
             ],
             [
              0.6666666666666666,
              "#ed7953"
             ],
             [
              0.7777777777777778,
              "#fb9f3a"
             ],
             [
              0.8888888888888888,
              "#fdca26"
             ],
             [
              1,
              "#f0f921"
             ]
            ],
            "type": "surface"
           }
          ],
          "table": [
           {
            "cells": {
             "fill": {
              "color": "#EBF0F8"
             },
             "line": {
              "color": "white"
             }
            },
            "header": {
             "fill": {
              "color": "#C8D4E3"
             },
             "line": {
              "color": "white"
             }
            },
            "type": "table"
           }
          ]
         },
         "layout": {
          "annotationdefaults": {
           "arrowcolor": "#2a3f5f",
           "arrowhead": 0,
           "arrowwidth": 1
          },
          "autotypenumbers": "strict",
          "coloraxis": {
           "colorbar": {
            "outlinewidth": 0,
            "ticks": ""
           }
          },
          "colorscale": {
           "diverging": [
            [
             0,
             "#8e0152"
            ],
            [
             0.1,
             "#c51b7d"
            ],
            [
             0.2,
             "#de77ae"
            ],
            [
             0.3,
             "#f1b6da"
            ],
            [
             0.4,
             "#fde0ef"
            ],
            [
             0.5,
             "#f7f7f7"
            ],
            [
             0.6,
             "#e6f5d0"
            ],
            [
             0.7,
             "#b8e186"
            ],
            [
             0.8,
             "#7fbc41"
            ],
            [
             0.9,
             "#4d9221"
            ],
            [
             1,
             "#276419"
            ]
           ],
           "sequential": [
            [
             0,
             "#0d0887"
            ],
            [
             0.1111111111111111,
             "#46039f"
            ],
            [
             0.2222222222222222,
             "#7201a8"
            ],
            [
             0.3333333333333333,
             "#9c179e"
            ],
            [
             0.4444444444444444,
             "#bd3786"
            ],
            [
             0.5555555555555556,
             "#d8576b"
            ],
            [
             0.6666666666666666,
             "#ed7953"
            ],
            [
             0.7777777777777778,
             "#fb9f3a"
            ],
            [
             0.8888888888888888,
             "#fdca26"
            ],
            [
             1,
             "#f0f921"
            ]
           ],
           "sequentialminus": [
            [
             0,
             "#0d0887"
            ],
            [
             0.1111111111111111,
             "#46039f"
            ],
            [
             0.2222222222222222,
             "#7201a8"
            ],
            [
             0.3333333333333333,
             "#9c179e"
            ],
            [
             0.4444444444444444,
             "#bd3786"
            ],
            [
             0.5555555555555556,
             "#d8576b"
            ],
            [
             0.6666666666666666,
             "#ed7953"
            ],
            [
             0.7777777777777778,
             "#fb9f3a"
            ],
            [
             0.8888888888888888,
             "#fdca26"
            ],
            [
             1,
             "#f0f921"
            ]
           ]
          },
          "colorway": [
           "#636efa",
           "#EF553B",
           "#00cc96",
           "#ab63fa",
           "#FFA15A",
           "#19d3f3",
           "#FF6692",
           "#B6E880",
           "#FF97FF",
           "#FECB52"
          ],
          "font": {
           "color": "#2a3f5f"
          },
          "geo": {
           "bgcolor": "white",
           "lakecolor": "white",
           "landcolor": "#E5ECF6",
           "showlakes": true,
           "showland": true,
           "subunitcolor": "white"
          },
          "hoverlabel": {
           "align": "left"
          },
          "hovermode": "closest",
          "mapbox": {
           "style": "light"
          },
          "paper_bgcolor": "white",
          "plot_bgcolor": "#E5ECF6",
          "polar": {
           "angularaxis": {
            "gridcolor": "white",
            "linecolor": "white",
            "ticks": ""
           },
           "bgcolor": "#E5ECF6",
           "radialaxis": {
            "gridcolor": "white",
            "linecolor": "white",
            "ticks": ""
           }
          },
          "scene": {
           "xaxis": {
            "backgroundcolor": "#E5ECF6",
            "gridcolor": "white",
            "gridwidth": 2,
            "linecolor": "white",
            "showbackground": true,
            "ticks": "",
            "zerolinecolor": "white"
           },
           "yaxis": {
            "backgroundcolor": "#E5ECF6",
            "gridcolor": "white",
            "gridwidth": 2,
            "linecolor": "white",
            "showbackground": true,
            "ticks": "",
            "zerolinecolor": "white"
           },
           "zaxis": {
            "backgroundcolor": "#E5ECF6",
            "gridcolor": "white",
            "gridwidth": 2,
            "linecolor": "white",
            "showbackground": true,
            "ticks": "",
            "zerolinecolor": "white"
           }
          },
          "shapedefaults": {
           "line": {
            "color": "#2a3f5f"
           }
          },
          "ternary": {
           "aaxis": {
            "gridcolor": "white",
            "linecolor": "white",
            "ticks": ""
           },
           "baxis": {
            "gridcolor": "white",
            "linecolor": "white",
            "ticks": ""
           },
           "bgcolor": "#E5ECF6",
           "caxis": {
            "gridcolor": "white",
            "linecolor": "white",
            "ticks": ""
           }
          },
          "title": {
           "x": 0.05
          },
          "xaxis": {
           "automargin": true,
           "gridcolor": "white",
           "linecolor": "white",
           "ticks": "",
           "title": {
            "standoff": 15
           },
           "zerolinecolor": "white",
           "zerolinewidth": 2
          },
          "yaxis": {
           "automargin": true,
           "gridcolor": "white",
           "linecolor": "white",
           "ticks": "",
           "title": {
            "standoff": 15
           },
           "zerolinecolor": "white",
           "zerolinewidth": 2
          }
         }
        },
        "xaxis": {
         "anchor": "y",
         "domain": [
          0,
          1
         ],
         "title": {
          "text": "Location"
         }
        },
        "yaxis": {
         "anchor": "x",
         "domain": [
          0,
          1
         ],
         "title": {
          "text": "Purchase Amount (USD)"
         }
        }
       }
      }
     },
     "metadata": {},
     "output_type": "display_data"
    }
   ],
   "source": [
    "fig = px.bar(shop_group, x = 'Location' , y = 'Purchase Amount (USD)')\n",
    "fig.show()"
   ]
  },
  {
   "cell_type": "markdown",
   "metadata": {},
   "source": [
    "## 17 Is there a relationship between customer age and the category of products they purchase?"
   ]
  },
  {
   "cell_type": "code",
   "execution_count": 58,
   "metadata": {},
   "outputs": [],
   "source": [
    "shop_group = df.groupby('Category')['Age'].mean().reset_index()"
   ]
  },
  {
   "cell_type": "code",
   "execution_count": 59,
   "metadata": {},
   "outputs": [
    {
     "data": {
      "application/vnd.plotly.v1+json": {
       "config": {
        "plotlyServerURL": "https://plot.ly"
       },
       "data": [
        {
         "alignmentgroup": "True",
         "hovertemplate": "Category=%{x}<br>Age=%{y}<extra></extra>",
         "legendgroup": "",
         "marker": {
          "color": "#636efa",
          "pattern": {
           "shape": ""
          }
         },
         "name": "",
         "offsetgroup": "",
         "orientation": "v",
         "showlegend": false,
         "textposition": "auto",
         "type": "bar",
         "x": [
          "Accessories",
          "Clothing",
          "Footwear",
          "Outerwear"
         ],
         "xaxis": "x",
         "y": [
          44.2241935483871,
          43.782959124928034,
          44.4424040066778,
          44.31172839506173
         ],
         "yaxis": "y"
        }
       ],
       "layout": {
        "barmode": "relative",
        "legend": {
         "tracegroupgap": 0
        },
        "margin": {
         "t": 60
        },
        "template": {
         "data": {
          "bar": [
           {
            "error_x": {
             "color": "#2a3f5f"
            },
            "error_y": {
             "color": "#2a3f5f"
            },
            "marker": {
             "line": {
              "color": "#E5ECF6",
              "width": 0.5
             },
             "pattern": {
              "fillmode": "overlay",
              "size": 10,
              "solidity": 0.2
             }
            },
            "type": "bar"
           }
          ],
          "barpolar": [
           {
            "marker": {
             "line": {
              "color": "#E5ECF6",
              "width": 0.5
             },
             "pattern": {
              "fillmode": "overlay",
              "size": 10,
              "solidity": 0.2
             }
            },
            "type": "barpolar"
           }
          ],
          "carpet": [
           {
            "aaxis": {
             "endlinecolor": "#2a3f5f",
             "gridcolor": "white",
             "linecolor": "white",
             "minorgridcolor": "white",
             "startlinecolor": "#2a3f5f"
            },
            "baxis": {
             "endlinecolor": "#2a3f5f",
             "gridcolor": "white",
             "linecolor": "white",
             "minorgridcolor": "white",
             "startlinecolor": "#2a3f5f"
            },
            "type": "carpet"
           }
          ],
          "choropleth": [
           {
            "colorbar": {
             "outlinewidth": 0,
             "ticks": ""
            },
            "type": "choropleth"
           }
          ],
          "contour": [
           {
            "colorbar": {
             "outlinewidth": 0,
             "ticks": ""
            },
            "colorscale": [
             [
              0,
              "#0d0887"
             ],
             [
              0.1111111111111111,
              "#46039f"
             ],
             [
              0.2222222222222222,
              "#7201a8"
             ],
             [
              0.3333333333333333,
              "#9c179e"
             ],
             [
              0.4444444444444444,
              "#bd3786"
             ],
             [
              0.5555555555555556,
              "#d8576b"
             ],
             [
              0.6666666666666666,
              "#ed7953"
             ],
             [
              0.7777777777777778,
              "#fb9f3a"
             ],
             [
              0.8888888888888888,
              "#fdca26"
             ],
             [
              1,
              "#f0f921"
             ]
            ],
            "type": "contour"
           }
          ],
          "contourcarpet": [
           {
            "colorbar": {
             "outlinewidth": 0,
             "ticks": ""
            },
            "type": "contourcarpet"
           }
          ],
          "heatmap": [
           {
            "colorbar": {
             "outlinewidth": 0,
             "ticks": ""
            },
            "colorscale": [
             [
              0,
              "#0d0887"
             ],
             [
              0.1111111111111111,
              "#46039f"
             ],
             [
              0.2222222222222222,
              "#7201a8"
             ],
             [
              0.3333333333333333,
              "#9c179e"
             ],
             [
              0.4444444444444444,
              "#bd3786"
             ],
             [
              0.5555555555555556,
              "#d8576b"
             ],
             [
              0.6666666666666666,
              "#ed7953"
             ],
             [
              0.7777777777777778,
              "#fb9f3a"
             ],
             [
              0.8888888888888888,
              "#fdca26"
             ],
             [
              1,
              "#f0f921"
             ]
            ],
            "type": "heatmap"
           }
          ],
          "heatmapgl": [
           {
            "colorbar": {
             "outlinewidth": 0,
             "ticks": ""
            },
            "colorscale": [
             [
              0,
              "#0d0887"
             ],
             [
              0.1111111111111111,
              "#46039f"
             ],
             [
              0.2222222222222222,
              "#7201a8"
             ],
             [
              0.3333333333333333,
              "#9c179e"
             ],
             [
              0.4444444444444444,
              "#bd3786"
             ],
             [
              0.5555555555555556,
              "#d8576b"
             ],
             [
              0.6666666666666666,
              "#ed7953"
             ],
             [
              0.7777777777777778,
              "#fb9f3a"
             ],
             [
              0.8888888888888888,
              "#fdca26"
             ],
             [
              1,
              "#f0f921"
             ]
            ],
            "type": "heatmapgl"
           }
          ],
          "histogram": [
           {
            "marker": {
             "pattern": {
              "fillmode": "overlay",
              "size": 10,
              "solidity": 0.2
             }
            },
            "type": "histogram"
           }
          ],
          "histogram2d": [
           {
            "colorbar": {
             "outlinewidth": 0,
             "ticks": ""
            },
            "colorscale": [
             [
              0,
              "#0d0887"
             ],
             [
              0.1111111111111111,
              "#46039f"
             ],
             [
              0.2222222222222222,
              "#7201a8"
             ],
             [
              0.3333333333333333,
              "#9c179e"
             ],
             [
              0.4444444444444444,
              "#bd3786"
             ],
             [
              0.5555555555555556,
              "#d8576b"
             ],
             [
              0.6666666666666666,
              "#ed7953"
             ],
             [
              0.7777777777777778,
              "#fb9f3a"
             ],
             [
              0.8888888888888888,
              "#fdca26"
             ],
             [
              1,
              "#f0f921"
             ]
            ],
            "type": "histogram2d"
           }
          ],
          "histogram2dcontour": [
           {
            "colorbar": {
             "outlinewidth": 0,
             "ticks": ""
            },
            "colorscale": [
             [
              0,
              "#0d0887"
             ],
             [
              0.1111111111111111,
              "#46039f"
             ],
             [
              0.2222222222222222,
              "#7201a8"
             ],
             [
              0.3333333333333333,
              "#9c179e"
             ],
             [
              0.4444444444444444,
              "#bd3786"
             ],
             [
              0.5555555555555556,
              "#d8576b"
             ],
             [
              0.6666666666666666,
              "#ed7953"
             ],
             [
              0.7777777777777778,
              "#fb9f3a"
             ],
             [
              0.8888888888888888,
              "#fdca26"
             ],
             [
              1,
              "#f0f921"
             ]
            ],
            "type": "histogram2dcontour"
           }
          ],
          "mesh3d": [
           {
            "colorbar": {
             "outlinewidth": 0,
             "ticks": ""
            },
            "type": "mesh3d"
           }
          ],
          "parcoords": [
           {
            "line": {
             "colorbar": {
              "outlinewidth": 0,
              "ticks": ""
             }
            },
            "type": "parcoords"
           }
          ],
          "pie": [
           {
            "automargin": true,
            "type": "pie"
           }
          ],
          "scatter": [
           {
            "fillpattern": {
             "fillmode": "overlay",
             "size": 10,
             "solidity": 0.2
            },
            "type": "scatter"
           }
          ],
          "scatter3d": [
           {
            "line": {
             "colorbar": {
              "outlinewidth": 0,
              "ticks": ""
             }
            },
            "marker": {
             "colorbar": {
              "outlinewidth": 0,
              "ticks": ""
             }
            },
            "type": "scatter3d"
           }
          ],
          "scattercarpet": [
           {
            "marker": {
             "colorbar": {
              "outlinewidth": 0,
              "ticks": ""
             }
            },
            "type": "scattercarpet"
           }
          ],
          "scattergeo": [
           {
            "marker": {
             "colorbar": {
              "outlinewidth": 0,
              "ticks": ""
             }
            },
            "type": "scattergeo"
           }
          ],
          "scattergl": [
           {
            "marker": {
             "colorbar": {
              "outlinewidth": 0,
              "ticks": ""
             }
            },
            "type": "scattergl"
           }
          ],
          "scattermapbox": [
           {
            "marker": {
             "colorbar": {
              "outlinewidth": 0,
              "ticks": ""
             }
            },
            "type": "scattermapbox"
           }
          ],
          "scatterpolar": [
           {
            "marker": {
             "colorbar": {
              "outlinewidth": 0,
              "ticks": ""
             }
            },
            "type": "scatterpolar"
           }
          ],
          "scatterpolargl": [
           {
            "marker": {
             "colorbar": {
              "outlinewidth": 0,
              "ticks": ""
             }
            },
            "type": "scatterpolargl"
           }
          ],
          "scatterternary": [
           {
            "marker": {
             "colorbar": {
              "outlinewidth": 0,
              "ticks": ""
             }
            },
            "type": "scatterternary"
           }
          ],
          "surface": [
           {
            "colorbar": {
             "outlinewidth": 0,
             "ticks": ""
            },
            "colorscale": [
             [
              0,
              "#0d0887"
             ],
             [
              0.1111111111111111,
              "#46039f"
             ],
             [
              0.2222222222222222,
              "#7201a8"
             ],
             [
              0.3333333333333333,
              "#9c179e"
             ],
             [
              0.4444444444444444,
              "#bd3786"
             ],
             [
              0.5555555555555556,
              "#d8576b"
             ],
             [
              0.6666666666666666,
              "#ed7953"
             ],
             [
              0.7777777777777778,
              "#fb9f3a"
             ],
             [
              0.8888888888888888,
              "#fdca26"
             ],
             [
              1,
              "#f0f921"
             ]
            ],
            "type": "surface"
           }
          ],
          "table": [
           {
            "cells": {
             "fill": {
              "color": "#EBF0F8"
             },
             "line": {
              "color": "white"
             }
            },
            "header": {
             "fill": {
              "color": "#C8D4E3"
             },
             "line": {
              "color": "white"
             }
            },
            "type": "table"
           }
          ]
         },
         "layout": {
          "annotationdefaults": {
           "arrowcolor": "#2a3f5f",
           "arrowhead": 0,
           "arrowwidth": 1
          },
          "autotypenumbers": "strict",
          "coloraxis": {
           "colorbar": {
            "outlinewidth": 0,
            "ticks": ""
           }
          },
          "colorscale": {
           "diverging": [
            [
             0,
             "#8e0152"
            ],
            [
             0.1,
             "#c51b7d"
            ],
            [
             0.2,
             "#de77ae"
            ],
            [
             0.3,
             "#f1b6da"
            ],
            [
             0.4,
             "#fde0ef"
            ],
            [
             0.5,
             "#f7f7f7"
            ],
            [
             0.6,
             "#e6f5d0"
            ],
            [
             0.7,
             "#b8e186"
            ],
            [
             0.8,
             "#7fbc41"
            ],
            [
             0.9,
             "#4d9221"
            ],
            [
             1,
             "#276419"
            ]
           ],
           "sequential": [
            [
             0,
             "#0d0887"
            ],
            [
             0.1111111111111111,
             "#46039f"
            ],
            [
             0.2222222222222222,
             "#7201a8"
            ],
            [
             0.3333333333333333,
             "#9c179e"
            ],
            [
             0.4444444444444444,
             "#bd3786"
            ],
            [
             0.5555555555555556,
             "#d8576b"
            ],
            [
             0.6666666666666666,
             "#ed7953"
            ],
            [
             0.7777777777777778,
             "#fb9f3a"
            ],
            [
             0.8888888888888888,
             "#fdca26"
            ],
            [
             1,
             "#f0f921"
            ]
           ],
           "sequentialminus": [
            [
             0,
             "#0d0887"
            ],
            [
             0.1111111111111111,
             "#46039f"
            ],
            [
             0.2222222222222222,
             "#7201a8"
            ],
            [
             0.3333333333333333,
             "#9c179e"
            ],
            [
             0.4444444444444444,
             "#bd3786"
            ],
            [
             0.5555555555555556,
             "#d8576b"
            ],
            [
             0.6666666666666666,
             "#ed7953"
            ],
            [
             0.7777777777777778,
             "#fb9f3a"
            ],
            [
             0.8888888888888888,
             "#fdca26"
            ],
            [
             1,
             "#f0f921"
            ]
           ]
          },
          "colorway": [
           "#636efa",
           "#EF553B",
           "#00cc96",
           "#ab63fa",
           "#FFA15A",
           "#19d3f3",
           "#FF6692",
           "#B6E880",
           "#FF97FF",
           "#FECB52"
          ],
          "font": {
           "color": "#2a3f5f"
          },
          "geo": {
           "bgcolor": "white",
           "lakecolor": "white",
           "landcolor": "#E5ECF6",
           "showlakes": true,
           "showland": true,
           "subunitcolor": "white"
          },
          "hoverlabel": {
           "align": "left"
          },
          "hovermode": "closest",
          "mapbox": {
           "style": "light"
          },
          "paper_bgcolor": "white",
          "plot_bgcolor": "#E5ECF6",
          "polar": {
           "angularaxis": {
            "gridcolor": "white",
            "linecolor": "white",
            "ticks": ""
           },
           "bgcolor": "#E5ECF6",
           "radialaxis": {
            "gridcolor": "white",
            "linecolor": "white",
            "ticks": ""
           }
          },
          "scene": {
           "xaxis": {
            "backgroundcolor": "#E5ECF6",
            "gridcolor": "white",
            "gridwidth": 2,
            "linecolor": "white",
            "showbackground": true,
            "ticks": "",
            "zerolinecolor": "white"
           },
           "yaxis": {
            "backgroundcolor": "#E5ECF6",
            "gridcolor": "white",
            "gridwidth": 2,
            "linecolor": "white",
            "showbackground": true,
            "ticks": "",
            "zerolinecolor": "white"
           },
           "zaxis": {
            "backgroundcolor": "#E5ECF6",
            "gridcolor": "white",
            "gridwidth": 2,
            "linecolor": "white",
            "showbackground": true,
            "ticks": "",
            "zerolinecolor": "white"
           }
          },
          "shapedefaults": {
           "line": {
            "color": "#2a3f5f"
           }
          },
          "ternary": {
           "aaxis": {
            "gridcolor": "white",
            "linecolor": "white",
            "ticks": ""
           },
           "baxis": {
            "gridcolor": "white",
            "linecolor": "white",
            "ticks": ""
           },
           "bgcolor": "#E5ECF6",
           "caxis": {
            "gridcolor": "white",
            "linecolor": "white",
            "ticks": ""
           }
          },
          "title": {
           "x": 0.05
          },
          "xaxis": {
           "automargin": true,
           "gridcolor": "white",
           "linecolor": "white",
           "ticks": "",
           "title": {
            "standoff": 15
           },
           "zerolinecolor": "white",
           "zerolinewidth": 2
          },
          "yaxis": {
           "automargin": true,
           "gridcolor": "white",
           "linecolor": "white",
           "ticks": "",
           "title": {
            "standoff": 15
           },
           "zerolinecolor": "white",
           "zerolinewidth": 2
          }
         }
        },
        "xaxis": {
         "anchor": "y",
         "domain": [
          0,
          1
         ],
         "title": {
          "text": "Category"
         }
        },
        "yaxis": {
         "anchor": "x",
         "domain": [
          0,
          1
         ],
         "title": {
          "text": "Age"
         }
        }
       }
      }
     },
     "metadata": {},
     "output_type": "display_data"
    }
   ],
   "source": [
    "fig = px.bar(shop_group ,y = 'Age' , x= 'Category')\n",
    "fig.show()"
   ]
  },
  {
   "cell_type": "markdown",
   "metadata": {},
   "source": [
    "## 18 How does the average purchase amount differ between male and female customers?"
   ]
  },
  {
   "cell_type": "code",
   "execution_count": 60,
   "metadata": {},
   "outputs": [],
   "source": [
    "shop_group = df.groupby('Gender')['Purchase Amount (USD)'].sum().reset_index()"
   ]
  },
  {
   "cell_type": "code",
   "execution_count": 61,
   "metadata": {},
   "outputs": [
    {
     "data": {
      "application/vnd.plotly.v1+json": {
       "config": {
        "plotlyServerURL": "https://plot.ly"
       },
       "data": [
        {
         "alignmentgroup": "True",
         "hovertemplate": "Gender=%{x}<br>Purchase Amount (USD)=%{y}<extra></extra>",
         "legendgroup": "",
         "marker": {
          "color": "#636efa",
          "pattern": {
           "shape": ""
          }
         },
         "name": "",
         "offsetgroup": "",
         "orientation": "v",
         "showlegend": false,
         "textposition": "auto",
         "type": "bar",
         "x": [
          "Female",
          "Male"
         ],
         "xaxis": "x",
         "y": [
          75191,
          157890
         ],
         "yaxis": "y"
        }
       ],
       "layout": {
        "barmode": "relative",
        "legend": {
         "tracegroupgap": 0
        },
        "margin": {
         "t": 60
        },
        "template": {
         "data": {
          "bar": [
           {
            "error_x": {
             "color": "#2a3f5f"
            },
            "error_y": {
             "color": "#2a3f5f"
            },
            "marker": {
             "line": {
              "color": "#E5ECF6",
              "width": 0.5
             },
             "pattern": {
              "fillmode": "overlay",
              "size": 10,
              "solidity": 0.2
             }
            },
            "type": "bar"
           }
          ],
          "barpolar": [
           {
            "marker": {
             "line": {
              "color": "#E5ECF6",
              "width": 0.5
             },
             "pattern": {
              "fillmode": "overlay",
              "size": 10,
              "solidity": 0.2
             }
            },
            "type": "barpolar"
           }
          ],
          "carpet": [
           {
            "aaxis": {
             "endlinecolor": "#2a3f5f",
             "gridcolor": "white",
             "linecolor": "white",
             "minorgridcolor": "white",
             "startlinecolor": "#2a3f5f"
            },
            "baxis": {
             "endlinecolor": "#2a3f5f",
             "gridcolor": "white",
             "linecolor": "white",
             "minorgridcolor": "white",
             "startlinecolor": "#2a3f5f"
            },
            "type": "carpet"
           }
          ],
          "choropleth": [
           {
            "colorbar": {
             "outlinewidth": 0,
             "ticks": ""
            },
            "type": "choropleth"
           }
          ],
          "contour": [
           {
            "colorbar": {
             "outlinewidth": 0,
             "ticks": ""
            },
            "colorscale": [
             [
              0,
              "#0d0887"
             ],
             [
              0.1111111111111111,
              "#46039f"
             ],
             [
              0.2222222222222222,
              "#7201a8"
             ],
             [
              0.3333333333333333,
              "#9c179e"
             ],
             [
              0.4444444444444444,
              "#bd3786"
             ],
             [
              0.5555555555555556,
              "#d8576b"
             ],
             [
              0.6666666666666666,
              "#ed7953"
             ],
             [
              0.7777777777777778,
              "#fb9f3a"
             ],
             [
              0.8888888888888888,
              "#fdca26"
             ],
             [
              1,
              "#f0f921"
             ]
            ],
            "type": "contour"
           }
          ],
          "contourcarpet": [
           {
            "colorbar": {
             "outlinewidth": 0,
             "ticks": ""
            },
            "type": "contourcarpet"
           }
          ],
          "heatmap": [
           {
            "colorbar": {
             "outlinewidth": 0,
             "ticks": ""
            },
            "colorscale": [
             [
              0,
              "#0d0887"
             ],
             [
              0.1111111111111111,
              "#46039f"
             ],
             [
              0.2222222222222222,
              "#7201a8"
             ],
             [
              0.3333333333333333,
              "#9c179e"
             ],
             [
              0.4444444444444444,
              "#bd3786"
             ],
             [
              0.5555555555555556,
              "#d8576b"
             ],
             [
              0.6666666666666666,
              "#ed7953"
             ],
             [
              0.7777777777777778,
              "#fb9f3a"
             ],
             [
              0.8888888888888888,
              "#fdca26"
             ],
             [
              1,
              "#f0f921"
             ]
            ],
            "type": "heatmap"
           }
          ],
          "heatmapgl": [
           {
            "colorbar": {
             "outlinewidth": 0,
             "ticks": ""
            },
            "colorscale": [
             [
              0,
              "#0d0887"
             ],
             [
              0.1111111111111111,
              "#46039f"
             ],
             [
              0.2222222222222222,
              "#7201a8"
             ],
             [
              0.3333333333333333,
              "#9c179e"
             ],
             [
              0.4444444444444444,
              "#bd3786"
             ],
             [
              0.5555555555555556,
              "#d8576b"
             ],
             [
              0.6666666666666666,
              "#ed7953"
             ],
             [
              0.7777777777777778,
              "#fb9f3a"
             ],
             [
              0.8888888888888888,
              "#fdca26"
             ],
             [
              1,
              "#f0f921"
             ]
            ],
            "type": "heatmapgl"
           }
          ],
          "histogram": [
           {
            "marker": {
             "pattern": {
              "fillmode": "overlay",
              "size": 10,
              "solidity": 0.2
             }
            },
            "type": "histogram"
           }
          ],
          "histogram2d": [
           {
            "colorbar": {
             "outlinewidth": 0,
             "ticks": ""
            },
            "colorscale": [
             [
              0,
              "#0d0887"
             ],
             [
              0.1111111111111111,
              "#46039f"
             ],
             [
              0.2222222222222222,
              "#7201a8"
             ],
             [
              0.3333333333333333,
              "#9c179e"
             ],
             [
              0.4444444444444444,
              "#bd3786"
             ],
             [
              0.5555555555555556,
              "#d8576b"
             ],
             [
              0.6666666666666666,
              "#ed7953"
             ],
             [
              0.7777777777777778,
              "#fb9f3a"
             ],
             [
              0.8888888888888888,
              "#fdca26"
             ],
             [
              1,
              "#f0f921"
             ]
            ],
            "type": "histogram2d"
           }
          ],
          "histogram2dcontour": [
           {
            "colorbar": {
             "outlinewidth": 0,
             "ticks": ""
            },
            "colorscale": [
             [
              0,
              "#0d0887"
             ],
             [
              0.1111111111111111,
              "#46039f"
             ],
             [
              0.2222222222222222,
              "#7201a8"
             ],
             [
              0.3333333333333333,
              "#9c179e"
             ],
             [
              0.4444444444444444,
              "#bd3786"
             ],
             [
              0.5555555555555556,
              "#d8576b"
             ],
             [
              0.6666666666666666,
              "#ed7953"
             ],
             [
              0.7777777777777778,
              "#fb9f3a"
             ],
             [
              0.8888888888888888,
              "#fdca26"
             ],
             [
              1,
              "#f0f921"
             ]
            ],
            "type": "histogram2dcontour"
           }
          ],
          "mesh3d": [
           {
            "colorbar": {
             "outlinewidth": 0,
             "ticks": ""
            },
            "type": "mesh3d"
           }
          ],
          "parcoords": [
           {
            "line": {
             "colorbar": {
              "outlinewidth": 0,
              "ticks": ""
             }
            },
            "type": "parcoords"
           }
          ],
          "pie": [
           {
            "automargin": true,
            "type": "pie"
           }
          ],
          "scatter": [
           {
            "fillpattern": {
             "fillmode": "overlay",
             "size": 10,
             "solidity": 0.2
            },
            "type": "scatter"
           }
          ],
          "scatter3d": [
           {
            "line": {
             "colorbar": {
              "outlinewidth": 0,
              "ticks": ""
             }
            },
            "marker": {
             "colorbar": {
              "outlinewidth": 0,
              "ticks": ""
             }
            },
            "type": "scatter3d"
           }
          ],
          "scattercarpet": [
           {
            "marker": {
             "colorbar": {
              "outlinewidth": 0,
              "ticks": ""
             }
            },
            "type": "scattercarpet"
           }
          ],
          "scattergeo": [
           {
            "marker": {
             "colorbar": {
              "outlinewidth": 0,
              "ticks": ""
             }
            },
            "type": "scattergeo"
           }
          ],
          "scattergl": [
           {
            "marker": {
             "colorbar": {
              "outlinewidth": 0,
              "ticks": ""
             }
            },
            "type": "scattergl"
           }
          ],
          "scattermapbox": [
           {
            "marker": {
             "colorbar": {
              "outlinewidth": 0,
              "ticks": ""
             }
            },
            "type": "scattermapbox"
           }
          ],
          "scatterpolar": [
           {
            "marker": {
             "colorbar": {
              "outlinewidth": 0,
              "ticks": ""
             }
            },
            "type": "scatterpolar"
           }
          ],
          "scatterpolargl": [
           {
            "marker": {
             "colorbar": {
              "outlinewidth": 0,
              "ticks": ""
             }
            },
            "type": "scatterpolargl"
           }
          ],
          "scatterternary": [
           {
            "marker": {
             "colorbar": {
              "outlinewidth": 0,
              "ticks": ""
             }
            },
            "type": "scatterternary"
           }
          ],
          "surface": [
           {
            "colorbar": {
             "outlinewidth": 0,
             "ticks": ""
            },
            "colorscale": [
             [
              0,
              "#0d0887"
             ],
             [
              0.1111111111111111,
              "#46039f"
             ],
             [
              0.2222222222222222,
              "#7201a8"
             ],
             [
              0.3333333333333333,
              "#9c179e"
             ],
             [
              0.4444444444444444,
              "#bd3786"
             ],
             [
              0.5555555555555556,
              "#d8576b"
             ],
             [
              0.6666666666666666,
              "#ed7953"
             ],
             [
              0.7777777777777778,
              "#fb9f3a"
             ],
             [
              0.8888888888888888,
              "#fdca26"
             ],
             [
              1,
              "#f0f921"
             ]
            ],
            "type": "surface"
           }
          ],
          "table": [
           {
            "cells": {
             "fill": {
              "color": "#EBF0F8"
             },
             "line": {
              "color": "white"
             }
            },
            "header": {
             "fill": {
              "color": "#C8D4E3"
             },
             "line": {
              "color": "white"
             }
            },
            "type": "table"
           }
          ]
         },
         "layout": {
          "annotationdefaults": {
           "arrowcolor": "#2a3f5f",
           "arrowhead": 0,
           "arrowwidth": 1
          },
          "autotypenumbers": "strict",
          "coloraxis": {
           "colorbar": {
            "outlinewidth": 0,
            "ticks": ""
           }
          },
          "colorscale": {
           "diverging": [
            [
             0,
             "#8e0152"
            ],
            [
             0.1,
             "#c51b7d"
            ],
            [
             0.2,
             "#de77ae"
            ],
            [
             0.3,
             "#f1b6da"
            ],
            [
             0.4,
             "#fde0ef"
            ],
            [
             0.5,
             "#f7f7f7"
            ],
            [
             0.6,
             "#e6f5d0"
            ],
            [
             0.7,
             "#b8e186"
            ],
            [
             0.8,
             "#7fbc41"
            ],
            [
             0.9,
             "#4d9221"
            ],
            [
             1,
             "#276419"
            ]
           ],
           "sequential": [
            [
             0,
             "#0d0887"
            ],
            [
             0.1111111111111111,
             "#46039f"
            ],
            [
             0.2222222222222222,
             "#7201a8"
            ],
            [
             0.3333333333333333,
             "#9c179e"
            ],
            [
             0.4444444444444444,
             "#bd3786"
            ],
            [
             0.5555555555555556,
             "#d8576b"
            ],
            [
             0.6666666666666666,
             "#ed7953"
            ],
            [
             0.7777777777777778,
             "#fb9f3a"
            ],
            [
             0.8888888888888888,
             "#fdca26"
            ],
            [
             1,
             "#f0f921"
            ]
           ],
           "sequentialminus": [
            [
             0,
             "#0d0887"
            ],
            [
             0.1111111111111111,
             "#46039f"
            ],
            [
             0.2222222222222222,
             "#7201a8"
            ],
            [
             0.3333333333333333,
             "#9c179e"
            ],
            [
             0.4444444444444444,
             "#bd3786"
            ],
            [
             0.5555555555555556,
             "#d8576b"
            ],
            [
             0.6666666666666666,
             "#ed7953"
            ],
            [
             0.7777777777777778,
             "#fb9f3a"
            ],
            [
             0.8888888888888888,
             "#fdca26"
            ],
            [
             1,
             "#f0f921"
            ]
           ]
          },
          "colorway": [
           "#636efa",
           "#EF553B",
           "#00cc96",
           "#ab63fa",
           "#FFA15A",
           "#19d3f3",
           "#FF6692",
           "#B6E880",
           "#FF97FF",
           "#FECB52"
          ],
          "font": {
           "color": "#2a3f5f"
          },
          "geo": {
           "bgcolor": "white",
           "lakecolor": "white",
           "landcolor": "#E5ECF6",
           "showlakes": true,
           "showland": true,
           "subunitcolor": "white"
          },
          "hoverlabel": {
           "align": "left"
          },
          "hovermode": "closest",
          "mapbox": {
           "style": "light"
          },
          "paper_bgcolor": "white",
          "plot_bgcolor": "#E5ECF6",
          "polar": {
           "angularaxis": {
            "gridcolor": "white",
            "linecolor": "white",
            "ticks": ""
           },
           "bgcolor": "#E5ECF6",
           "radialaxis": {
            "gridcolor": "white",
            "linecolor": "white",
            "ticks": ""
           }
          },
          "scene": {
           "xaxis": {
            "backgroundcolor": "#E5ECF6",
            "gridcolor": "white",
            "gridwidth": 2,
            "linecolor": "white",
            "showbackground": true,
            "ticks": "",
            "zerolinecolor": "white"
           },
           "yaxis": {
            "backgroundcolor": "#E5ECF6",
            "gridcolor": "white",
            "gridwidth": 2,
            "linecolor": "white",
            "showbackground": true,
            "ticks": "",
            "zerolinecolor": "white"
           },
           "zaxis": {
            "backgroundcolor": "#E5ECF6",
            "gridcolor": "white",
            "gridwidth": 2,
            "linecolor": "white",
            "showbackground": true,
            "ticks": "",
            "zerolinecolor": "white"
           }
          },
          "shapedefaults": {
           "line": {
            "color": "#2a3f5f"
           }
          },
          "ternary": {
           "aaxis": {
            "gridcolor": "white",
            "linecolor": "white",
            "ticks": ""
           },
           "baxis": {
            "gridcolor": "white",
            "linecolor": "white",
            "ticks": ""
           },
           "bgcolor": "#E5ECF6",
           "caxis": {
            "gridcolor": "white",
            "linecolor": "white",
            "ticks": ""
           }
          },
          "title": {
           "x": 0.05
          },
          "xaxis": {
           "automargin": true,
           "gridcolor": "white",
           "linecolor": "white",
           "ticks": "",
           "title": {
            "standoff": 15
           },
           "zerolinecolor": "white",
           "zerolinewidth": 2
          },
          "yaxis": {
           "automargin": true,
           "gridcolor": "white",
           "linecolor": "white",
           "ticks": "",
           "title": {
            "standoff": 15
           },
           "zerolinecolor": "white",
           "zerolinewidth": 2
          }
         }
        },
        "xaxis": {
         "anchor": "y",
         "domain": [
          0,
          1
         ],
         "title": {
          "text": "Gender"
         }
        },
        "yaxis": {
         "anchor": "x",
         "domain": [
          0,
          1
         ],
         "title": {
          "text": "Purchase Amount (USD)"
         }
        }
       }
      }
     },
     "metadata": {},
     "output_type": "display_data"
    }
   ],
   "source": [
    "fig = px.bar(shop_group , x = 'Gender' , y = 'Purchase Amount (USD)')\n",
    "fig.show()"
   ]
  }
 ],
 "metadata": {
  "kernelspec": {
   "display_name": "Python 3",
   "language": "python",
   "name": "python3"
  },
  "language_info": {
   "codemirror_mode": {
    "name": "ipython",
    "version": 3
   },
   "file_extension": ".py",
   "mimetype": "text/x-python",
   "name": "python",
   "nbconvert_exporter": "python",
   "pygments_lexer": "ipython3",
   "version": "3.12.6"
  }
 },
 "nbformat": 4,
 "nbformat_minor": 2
}
